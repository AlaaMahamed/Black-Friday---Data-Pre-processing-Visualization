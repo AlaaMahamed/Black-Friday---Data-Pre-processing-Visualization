{
 "cells": [
  {
   "cell_type": "markdown",
   "metadata": {
    "_uuid": "0ae16806f92da611dc6724bf7ee1bca76c65e366",
    "id": "3xWdXPXLyOJM"
   },
   "source": [
    "## Black Friday - Data Pre-processing & Visualization\n",
    "\n",
    "### Pre-Processing Data and Visualization \n",
    "> My main activity using the Black Friday dataset has been *Data Pre-processing* and getting insight through *Visualization*.\n",
    "\n",
    "\n",
    "### Description\n",
    "> The dataset here is a sample of the transactions made in a retail store. The store wants to know better the customer purchase behaviour against different products.<br>\n",
    "> __Black Friday__ is an informal name for the Friday following Thanksgiving Day in the United States, which is celebrated on the fourth Thursday of November. The day after Thanksgiving has been regarded as the beginning of America's Christmas shopping season since 1952, although the term \"Black Friday\" didn't become widely used until more recent decades. Black Friday date in 2018 fell on November 23. (Source : Wikipedia)\n",
    "\n",
    "> __Additional Use of data__ <br>\n",
    "Additionally the data can also be considered for 'Classification', as several variables are categorical, like classifying the age group and category of goods purchased.\n",
    "'Clustering' can also be incorporated from the dataset, providing different clusters based on product category, age, Gender.<br>\n",
    "\n",
    "> __Dataset Features Overview__ <br>\n",
    "> __User_ID:__ A distinct ID is given to the customers to identify them uniquely.<br>\n",
    "> __Product_ID:__ A distinct ID is given to products to identify them uniquely.<br>\n",
    "> __Gender:__ M or F can be used as a binary variable.<br>\n",
    "> __Age:__ Age is given in bins with 6 categories.<br>\n",
    "> __Occupation:__ The type of occupation a user does, it is already masked.<br>\n",
    "> __City_Category:__ The category of the city out of A, B, C. Should be used as Categorical Variable.<br>\n",
    "> __Stay_In_Current_City_Years:__ It has 5 values: 0, 1, 2, 3, 4+ and may be used as categorical variables.<br>\n",
    "> __Marital_Status:__ 0: Unmarried and 1: Married. It is expected that marital status does affect the Purchase value.<br>\n",
    "> __Product_Category_1:__ The primary category that a product belongs to. It can be a useful feature as some certain category of products are sold more often than others.<br>\n",
    "> __Product_Category_2:__ The Secondary category of a product. If there is no secondary category this will be Null.<br>\n",
    "> __Product_Category_3:__ The Tertiary Category of a product. This will be only occupied when Category 1 and 2 are occupied. Also, if a product does not have a tertiary category, it will be Null.<br>\n",
    "> __Purchase:__ This is the target variable."
   ]
  },
  {
   "cell_type": "markdown",
   "metadata": {
    "_uuid": "a2c1105c89c207edf0b9e804fc09c27109497686",
    "id": "xiNPfSAeyOJS"
   },
   "source": [
    "### Contents\n",
    "[1.0 Importing required Python libraries and data](#1.0-Importing-required-libraries-and-data)<br>\n",
    "    [1.1 Exploring the data](#1.1-Exploring-the-data)<br>\n",
    "<br>\n",
    "[2.0 Data Pre-Processing](#2.0-Data-Pre-Processing)<br>\n",
    "    [2.1 Renaming columns](#2.1-Rename-columns)<br>\n",
    "    [2.2 Encoding categorical variables](#2.2-Encoding-categorical-varaibles-to-numerics)<br>\n",
    "    [2.3 Handling Missing Values](#2.3-Handling-Missing-Values)<br>\n",
    "    [2.4 Multicolinearity](#2.4-Multicolinearity)<br>\n",
    "<br>\n",
    "[3.0 Visualization](#3.0-Visualization)<br>\n",
    "   [3.1 Visualisation of correlation](#3.2-Visualization-of-correlation)<br>\n",
    "<br>\n",
    "[4.0 Conclusion](#4.0-Conclusion)\n"
   ]
  },
  {
   "cell_type": "markdown",
   "metadata": {
    "_uuid": "37c22575f18e765b59bf56f19763e22353de945d",
    "id": "EXzxoJCXyOJT"
   },
   "source": [
    "### 1.0 Importing required libraries and data"
   ]
  },
  {
   "cell_type": "code",
   "execution_count": null,
   "metadata": {
    "colab": {
     "base_uri": "https://localhost:8080/"
    },
    "id": "9-egkFcnJLHi",
    "outputId": "ecf22cd9-7466-481f-8972-d6f35331dc74"
   },
   "outputs": [
    {
     "name": "stdout",
     "output_type": "stream",
     "text": [
      "Mounted at /content/drive\n"
     ]
    }
   ],
   "source": [
    "from google.colab import drive\n",
    "drive.mount('/content/drive')"
   ]
  },
  {
   "cell_type": "code",
   "execution_count": null,
   "metadata": {
    "_uuid": "73dff4f1e7dd8ed8f872e5a2c2c556a352d6bcb5",
    "id": "kSwxI03byOJT"
   },
   "outputs": [],
   "source": [
    "import os #The OS module in Python provides functions for creating and removing a directory (folder), fetching its contents, changing and identifying the current directory, etc.\n",
    "import numpy as np #NumPy is a general-purpose array-processing package\n",
    "import pandas as pd #Pandas is an open-source Python Library for data structures processing\n",
    "import matplotlib.pyplot as plt # for data visualization\n",
    "import seaborn as sns # for data visualization"
   ]
  },
  {
   "cell_type": "code",
   "execution_count": null,
   "metadata": {
    "_uuid": "3a1c4be038c4375f9288d7cb38c5004d730da534",
    "id": "GJeaoyXgyOJU"
   },
   "outputs": [],
   "source": [
    "# Importing data into python from the given csv file\n",
    "dataset= pd.read_csv('/content/drive/MyDrive/BlackFriday.csv')"
   ]
  },
  {
   "cell_type": "markdown",
   "metadata": {
    "_uuid": "79c40052404d0c9f4193cc0c68733714596aafb7",
    "id": "Rxw3xtPZyOJV"
   },
   "source": [
    "***"
   ]
  },
  {
   "cell_type": "markdown",
   "metadata": {
    "_uuid": "fed07f7dcbac72716157a02c7263671c92d4df37",
    "id": "Q2ZNmgU2yOJV"
   },
   "source": [
    "#### 1.1 Exploring the data "
   ]
  },
  {
   "cell_type": "code",
   "execution_count": null,
   "metadata": {
    "_uuid": "624285eb83aa5c60e672d1622dbad7f34e5761fd",
    "colab": {
     "base_uri": "https://localhost:8080/",
     "height": 339
    },
    "id": "wpW-vYwzyOJW",
    "outputId": "d6ec8692-17e9-4b4f-bafc-f86a2e9d2f91"
   },
   "outputs": [
    {
     "data": {
      "text/html": [
       "\n",
       "  <div id=\"df-a9798840-6227-40e9-b832-d0e5613cf6f3\">\n",
       "    <div class=\"colab-df-container\">\n",
       "      <div>\n",
       "<style scoped>\n",
       "    .dataframe tbody tr th:only-of-type {\n",
       "        vertical-align: middle;\n",
       "    }\n",
       "\n",
       "    .dataframe tbody tr th {\n",
       "        vertical-align: top;\n",
       "    }\n",
       "\n",
       "    .dataframe thead th {\n",
       "        text-align: right;\n",
       "    }\n",
       "</style>\n",
       "<table border=\"1\" class=\"dataframe\">\n",
       "  <thead>\n",
       "    <tr style=\"text-align: right;\">\n",
       "      <th></th>\n",
       "      <th>User_ID</th>\n",
       "      <th>Product_ID</th>\n",
       "      <th>Gender</th>\n",
       "      <th>Age</th>\n",
       "      <th>Occupation</th>\n",
       "      <th>City_Category</th>\n",
       "      <th>Stay_In_Current_City_Years</th>\n",
       "      <th>Marital_Status</th>\n",
       "      <th>Product_Category_1</th>\n",
       "      <th>Product_Category_2</th>\n",
       "      <th>Product_Category_3</th>\n",
       "      <th>Purchase</th>\n",
       "    </tr>\n",
       "  </thead>\n",
       "  <tbody>\n",
       "    <tr>\n",
       "      <th>0</th>\n",
       "      <td>1000001</td>\n",
       "      <td>P00069042</td>\n",
       "      <td>F</td>\n",
       "      <td>0-17</td>\n",
       "      <td>10</td>\n",
       "      <td>A</td>\n",
       "      <td>2</td>\n",
       "      <td>0</td>\n",
       "      <td>3</td>\n",
       "      <td>NaN</td>\n",
       "      <td>NaN</td>\n",
       "      <td>8370</td>\n",
       "    </tr>\n",
       "    <tr>\n",
       "      <th>1</th>\n",
       "      <td>1000001</td>\n",
       "      <td>P00248942</td>\n",
       "      <td>F</td>\n",
       "      <td>0-17</td>\n",
       "      <td>10</td>\n",
       "      <td>A</td>\n",
       "      <td>2</td>\n",
       "      <td>0</td>\n",
       "      <td>1</td>\n",
       "      <td>6.0</td>\n",
       "      <td>14.0</td>\n",
       "      <td>15200</td>\n",
       "    </tr>\n",
       "    <tr>\n",
       "      <th>2</th>\n",
       "      <td>1000001</td>\n",
       "      <td>P00087842</td>\n",
       "      <td>F</td>\n",
       "      <td>0-17</td>\n",
       "      <td>10</td>\n",
       "      <td>A</td>\n",
       "      <td>2</td>\n",
       "      <td>0</td>\n",
       "      <td>12</td>\n",
       "      <td>NaN</td>\n",
       "      <td>NaN</td>\n",
       "      <td>1422</td>\n",
       "    </tr>\n",
       "    <tr>\n",
       "      <th>3</th>\n",
       "      <td>1000001</td>\n",
       "      <td>P00085442</td>\n",
       "      <td>F</td>\n",
       "      <td>0-17</td>\n",
       "      <td>10</td>\n",
       "      <td>A</td>\n",
       "      <td>2</td>\n",
       "      <td>0</td>\n",
       "      <td>12</td>\n",
       "      <td>14.0</td>\n",
       "      <td>NaN</td>\n",
       "      <td>1057</td>\n",
       "    </tr>\n",
       "    <tr>\n",
       "      <th>4</th>\n",
       "      <td>1000002</td>\n",
       "      <td>P00285442</td>\n",
       "      <td>M</td>\n",
       "      <td>55+</td>\n",
       "      <td>16</td>\n",
       "      <td>C</td>\n",
       "      <td>4+</td>\n",
       "      <td>0</td>\n",
       "      <td>8</td>\n",
       "      <td>NaN</td>\n",
       "      <td>NaN</td>\n",
       "      <td>7969</td>\n",
       "    </tr>\n",
       "  </tbody>\n",
       "</table>\n",
       "</div>\n",
       "      <button class=\"colab-df-convert\" onclick=\"convertToInteractive('df-a9798840-6227-40e9-b832-d0e5613cf6f3')\"\n",
       "              title=\"Convert this dataframe to an interactive table.\"\n",
       "              style=\"display:none;\">\n",
       "        \n",
       "  <svg xmlns=\"http://www.w3.org/2000/svg\" height=\"24px\"viewBox=\"0 0 24 24\"\n",
       "       width=\"24px\">\n",
       "    <path d=\"M0 0h24v24H0V0z\" fill=\"none\"/>\n",
       "    <path d=\"M18.56 5.44l.94 2.06.94-2.06 2.06-.94-2.06-.94-.94-2.06-.94 2.06-2.06.94zm-11 1L8.5 8.5l.94-2.06 2.06-.94-2.06-.94L8.5 2.5l-.94 2.06-2.06.94zm10 10l.94 2.06.94-2.06 2.06-.94-2.06-.94-.94-2.06-.94 2.06-2.06.94z\"/><path d=\"M17.41 7.96l-1.37-1.37c-.4-.4-.92-.59-1.43-.59-.52 0-1.04.2-1.43.59L10.3 9.45l-7.72 7.72c-.78.78-.78 2.05 0 2.83L4 21.41c.39.39.9.59 1.41.59.51 0 1.02-.2 1.41-.59l7.78-7.78 2.81-2.81c.8-.78.8-2.07 0-2.86zM5.41 20L4 18.59l7.72-7.72 1.47 1.35L5.41 20z\"/>\n",
       "  </svg>\n",
       "      </button>\n",
       "      \n",
       "  <style>\n",
       "    .colab-df-container {\n",
       "      display:flex;\n",
       "      flex-wrap:wrap;\n",
       "      gap: 12px;\n",
       "    }\n",
       "\n",
       "    .colab-df-convert {\n",
       "      background-color: #E8F0FE;\n",
       "      border: none;\n",
       "      border-radius: 50%;\n",
       "      cursor: pointer;\n",
       "      display: none;\n",
       "      fill: #1967D2;\n",
       "      height: 32px;\n",
       "      padding: 0 0 0 0;\n",
       "      width: 32px;\n",
       "    }\n",
       "\n",
       "    .colab-df-convert:hover {\n",
       "      background-color: #E2EBFA;\n",
       "      box-shadow: 0px 1px 2px rgba(60, 64, 67, 0.3), 0px 1px 3px 1px rgba(60, 64, 67, 0.15);\n",
       "      fill: #174EA6;\n",
       "    }\n",
       "\n",
       "    [theme=dark] .colab-df-convert {\n",
       "      background-color: #3B4455;\n",
       "      fill: #D2E3FC;\n",
       "    }\n",
       "\n",
       "    [theme=dark] .colab-df-convert:hover {\n",
       "      background-color: #434B5C;\n",
       "      box-shadow: 0px 1px 3px 1px rgba(0, 0, 0, 0.15);\n",
       "      filter: drop-shadow(0px 1px 2px rgba(0, 0, 0, 0.3));\n",
       "      fill: #FFFFFF;\n",
       "    }\n",
       "  </style>\n",
       "\n",
       "      <script>\n",
       "        const buttonEl =\n",
       "          document.querySelector('#df-a9798840-6227-40e9-b832-d0e5613cf6f3 button.colab-df-convert');\n",
       "        buttonEl.style.display =\n",
       "          google.colab.kernel.accessAllowed ? 'block' : 'none';\n",
       "\n",
       "        async function convertToInteractive(key) {\n",
       "          const element = document.querySelector('#df-a9798840-6227-40e9-b832-d0e5613cf6f3');\n",
       "          const dataTable =\n",
       "            await google.colab.kernel.invokeFunction('convertToInteractive',\n",
       "                                                     [key], {});\n",
       "          if (!dataTable) return;\n",
       "\n",
       "          const docLinkHtml = 'Like what you see? Visit the ' +\n",
       "            '<a target=\"_blank\" href=https://colab.research.google.com/notebooks/data_table.ipynb>data table notebook</a>'\n",
       "            + ' to learn more about interactive tables.';\n",
       "          element.innerHTML = '';\n",
       "          dataTable['output_type'] = 'display_data';\n",
       "          await google.colab.output.renderOutput(dataTable, element);\n",
       "          const docLink = document.createElement('div');\n",
       "          docLink.innerHTML = docLinkHtml;\n",
       "          element.appendChild(docLink);\n",
       "        }\n",
       "      </script>\n",
       "    </div>\n",
       "  </div>\n",
       "  "
      ],
      "text/plain": [
       "   User_ID Product_ID Gender   Age  Occupation City_Category  \\\n",
       "0  1000001  P00069042      F  0-17          10             A   \n",
       "1  1000001  P00248942      F  0-17          10             A   \n",
       "2  1000001  P00087842      F  0-17          10             A   \n",
       "3  1000001  P00085442      F  0-17          10             A   \n",
       "4  1000002  P00285442      M   55+          16             C   \n",
       "\n",
       "  Stay_In_Current_City_Years  Marital_Status  Product_Category_1  \\\n",
       "0                          2               0                   3   \n",
       "1                          2               0                   1   \n",
       "2                          2               0                  12   \n",
       "3                          2               0                  12   \n",
       "4                         4+               0                   8   \n",
       "\n",
       "   Product_Category_2  Product_Category_3  Purchase  \n",
       "0                 NaN                 NaN      8370  \n",
       "1                 6.0                14.0     15200  \n",
       "2                 NaN                 NaN      1422  \n",
       "3                14.0                 NaN      1057  \n",
       "4                 NaN                 NaN      7969  "
      ]
     },
     "execution_count": 4,
     "metadata": {},
     "output_type": "execute_result"
    }
   ],
   "source": [
    "dataset.head()"
   ]
  },
  {
   "cell_type": "markdown",
   "metadata": {
    "_uuid": "82c2ef289d734ad6ea3500b683de0d128c0be5f7",
    "id": "X4xNqZQIyOJX"
   },
   "source": [
    "*Observation* <br>\n",
    "Data contains missing values (NaN) mainly in *'product category2 and 3'* columns"
   ]
  },
  {
   "cell_type": "code",
   "execution_count": null,
   "metadata": {
    "colab": {
     "base_uri": "https://localhost:8080/",
     "height": 357
    },
    "id": "ap2VlJ3vyOJX",
    "outputId": "b493faa3-1e74-421b-b41b-d9ca4b9c739b",
    "scrolled": true
   },
   "outputs": [
    {
     "data": {
      "text/html": [
       "\n",
       "  <div id=\"df-b75639c6-99da-40df-aa71-c033e7b4d710\">\n",
       "    <div class=\"colab-df-container\">\n",
       "      <div>\n",
       "<style scoped>\n",
       "    .dataframe tbody tr th:only-of-type {\n",
       "        vertical-align: middle;\n",
       "    }\n",
       "\n",
       "    .dataframe tbody tr th {\n",
       "        vertical-align: top;\n",
       "    }\n",
       "\n",
       "    .dataframe thead th {\n",
       "        text-align: right;\n",
       "    }\n",
       "</style>\n",
       "<table border=\"1\" class=\"dataframe\">\n",
       "  <thead>\n",
       "    <tr style=\"text-align: right;\">\n",
       "      <th></th>\n",
       "      <th>User_ID</th>\n",
       "      <th>Product_ID</th>\n",
       "      <th>Gender</th>\n",
       "      <th>Age</th>\n",
       "      <th>Occupation</th>\n",
       "      <th>City_Category</th>\n",
       "      <th>Stay_In_Current_City_Years</th>\n",
       "      <th>Marital_Status</th>\n",
       "      <th>Product_Category_1</th>\n",
       "      <th>Product_Category_2</th>\n",
       "      <th>Product_Category_3</th>\n",
       "      <th>Purchase</th>\n",
       "    </tr>\n",
       "  </thead>\n",
       "  <tbody>\n",
       "    <tr>\n",
       "      <th>537572</th>\n",
       "      <td>1004737</td>\n",
       "      <td>P00193542</td>\n",
       "      <td>M</td>\n",
       "      <td>36-45</td>\n",
       "      <td>16</td>\n",
       "      <td>C</td>\n",
       "      <td>1</td>\n",
       "      <td>0</td>\n",
       "      <td>1</td>\n",
       "      <td>2.0</td>\n",
       "      <td>NaN</td>\n",
       "      <td>11664</td>\n",
       "    </tr>\n",
       "    <tr>\n",
       "      <th>537573</th>\n",
       "      <td>1004737</td>\n",
       "      <td>P00111142</td>\n",
       "      <td>M</td>\n",
       "      <td>36-45</td>\n",
       "      <td>16</td>\n",
       "      <td>C</td>\n",
       "      <td>1</td>\n",
       "      <td>0</td>\n",
       "      <td>1</td>\n",
       "      <td>15.0</td>\n",
       "      <td>16.0</td>\n",
       "      <td>19196</td>\n",
       "    </tr>\n",
       "    <tr>\n",
       "      <th>537574</th>\n",
       "      <td>1004737</td>\n",
       "      <td>P00345942</td>\n",
       "      <td>M</td>\n",
       "      <td>36-45</td>\n",
       "      <td>16</td>\n",
       "      <td>C</td>\n",
       "      <td>1</td>\n",
       "      <td>0</td>\n",
       "      <td>8</td>\n",
       "      <td>15.0</td>\n",
       "      <td>NaN</td>\n",
       "      <td>8043</td>\n",
       "    </tr>\n",
       "    <tr>\n",
       "      <th>537575</th>\n",
       "      <td>1004737</td>\n",
       "      <td>P00285842</td>\n",
       "      <td>M</td>\n",
       "      <td>36-45</td>\n",
       "      <td>16</td>\n",
       "      <td>C</td>\n",
       "      <td>1</td>\n",
       "      <td>0</td>\n",
       "      <td>5</td>\n",
       "      <td>NaN</td>\n",
       "      <td>NaN</td>\n",
       "      <td>7172</td>\n",
       "    </tr>\n",
       "    <tr>\n",
       "      <th>537576</th>\n",
       "      <td>1004737</td>\n",
       "      <td>P00118242</td>\n",
       "      <td>M</td>\n",
       "      <td>36-45</td>\n",
       "      <td>16</td>\n",
       "      <td>C</td>\n",
       "      <td>1</td>\n",
       "      <td>0</td>\n",
       "      <td>5</td>\n",
       "      <td>8.0</td>\n",
       "      <td>NaN</td>\n",
       "      <td>6875</td>\n",
       "    </tr>\n",
       "  </tbody>\n",
       "</table>\n",
       "</div>\n",
       "      <button class=\"colab-df-convert\" onclick=\"convertToInteractive('df-b75639c6-99da-40df-aa71-c033e7b4d710')\"\n",
       "              title=\"Convert this dataframe to an interactive table.\"\n",
       "              style=\"display:none;\">\n",
       "        \n",
       "  <svg xmlns=\"http://www.w3.org/2000/svg\" height=\"24px\"viewBox=\"0 0 24 24\"\n",
       "       width=\"24px\">\n",
       "    <path d=\"M0 0h24v24H0V0z\" fill=\"none\"/>\n",
       "    <path d=\"M18.56 5.44l.94 2.06.94-2.06 2.06-.94-2.06-.94-.94-2.06-.94 2.06-2.06.94zm-11 1L8.5 8.5l.94-2.06 2.06-.94-2.06-.94L8.5 2.5l-.94 2.06-2.06.94zm10 10l.94 2.06.94-2.06 2.06-.94-2.06-.94-.94-2.06-.94 2.06-2.06.94z\"/><path d=\"M17.41 7.96l-1.37-1.37c-.4-.4-.92-.59-1.43-.59-.52 0-1.04.2-1.43.59L10.3 9.45l-7.72 7.72c-.78.78-.78 2.05 0 2.83L4 21.41c.39.39.9.59 1.41.59.51 0 1.02-.2 1.41-.59l7.78-7.78 2.81-2.81c.8-.78.8-2.07 0-2.86zM5.41 20L4 18.59l7.72-7.72 1.47 1.35L5.41 20z\"/>\n",
       "  </svg>\n",
       "      </button>\n",
       "      \n",
       "  <style>\n",
       "    .colab-df-container {\n",
       "      display:flex;\n",
       "      flex-wrap:wrap;\n",
       "      gap: 12px;\n",
       "    }\n",
       "\n",
       "    .colab-df-convert {\n",
       "      background-color: #E8F0FE;\n",
       "      border: none;\n",
       "      border-radius: 50%;\n",
       "      cursor: pointer;\n",
       "      display: none;\n",
       "      fill: #1967D2;\n",
       "      height: 32px;\n",
       "      padding: 0 0 0 0;\n",
       "      width: 32px;\n",
       "    }\n",
       "\n",
       "    .colab-df-convert:hover {\n",
       "      background-color: #E2EBFA;\n",
       "      box-shadow: 0px 1px 2px rgba(60, 64, 67, 0.3), 0px 1px 3px 1px rgba(60, 64, 67, 0.15);\n",
       "      fill: #174EA6;\n",
       "    }\n",
       "\n",
       "    [theme=dark] .colab-df-convert {\n",
       "      background-color: #3B4455;\n",
       "      fill: #D2E3FC;\n",
       "    }\n",
       "\n",
       "    [theme=dark] .colab-df-convert:hover {\n",
       "      background-color: #434B5C;\n",
       "      box-shadow: 0px 1px 3px 1px rgba(0, 0, 0, 0.15);\n",
       "      filter: drop-shadow(0px 1px 2px rgba(0, 0, 0, 0.3));\n",
       "      fill: #FFFFFF;\n",
       "    }\n",
       "  </style>\n",
       "\n",
       "      <script>\n",
       "        const buttonEl =\n",
       "          document.querySelector('#df-b75639c6-99da-40df-aa71-c033e7b4d710 button.colab-df-convert');\n",
       "        buttonEl.style.display =\n",
       "          google.colab.kernel.accessAllowed ? 'block' : 'none';\n",
       "\n",
       "        async function convertToInteractive(key) {\n",
       "          const element = document.querySelector('#df-b75639c6-99da-40df-aa71-c033e7b4d710');\n",
       "          const dataTable =\n",
       "            await google.colab.kernel.invokeFunction('convertToInteractive',\n",
       "                                                     [key], {});\n",
       "          if (!dataTable) return;\n",
       "\n",
       "          const docLinkHtml = 'Like what you see? Visit the ' +\n",
       "            '<a target=\"_blank\" href=https://colab.research.google.com/notebooks/data_table.ipynb>data table notebook</a>'\n",
       "            + ' to learn more about interactive tables.';\n",
       "          element.innerHTML = '';\n",
       "          dataTable['output_type'] = 'display_data';\n",
       "          await google.colab.output.renderOutput(dataTable, element);\n",
       "          const docLink = document.createElement('div');\n",
       "          docLink.innerHTML = docLinkHtml;\n",
       "          element.appendChild(docLink);\n",
       "        }\n",
       "      </script>\n",
       "    </div>\n",
       "  </div>\n",
       "  "
      ],
      "text/plain": [
       "        User_ID Product_ID Gender    Age  Occupation City_Category  \\\n",
       "537572  1004737  P00193542      M  36-45          16             C   \n",
       "537573  1004737  P00111142      M  36-45          16             C   \n",
       "537574  1004737  P00345942      M  36-45          16             C   \n",
       "537575  1004737  P00285842      M  36-45          16             C   \n",
       "537576  1004737  P00118242      M  36-45          16             C   \n",
       "\n",
       "       Stay_In_Current_City_Years  Marital_Status  Product_Category_1  \\\n",
       "537572                          1               0                   1   \n",
       "537573                          1               0                   1   \n",
       "537574                          1               0                   8   \n",
       "537575                          1               0                   5   \n",
       "537576                          1               0                   5   \n",
       "\n",
       "        Product_Category_2  Product_Category_3  Purchase  \n",
       "537572                 2.0                 NaN     11664  \n",
       "537573                15.0                16.0     19196  \n",
       "537574                15.0                 NaN      8043  \n",
       "537575                 NaN                 NaN      7172  \n",
       "537576                 8.0                 NaN      6875  "
      ]
     },
     "execution_count": 5,
     "metadata": {},
     "output_type": "execute_result"
    }
   ],
   "source": [
    "dataset.tail()"
   ]
  },
  {
   "cell_type": "code",
   "execution_count": null,
   "metadata": {
    "_uuid": "db6c3a6b2e778d21e7da299523f5cfbae091c203",
    "colab": {
     "base_uri": "https://localhost:8080/"
    },
    "id": "BUjUGdlRyOJY",
    "outputId": "2301a25b-70cb-495c-d2b5-ccdc442783b4",
    "scrolled": true
   },
   "outputs": [
    {
     "data": {
      "text/plain": [
       "User_ID                         int64\n",
       "Product_ID                     object\n",
       "Gender                         object\n",
       "Age                            object\n",
       "Occupation                      int64\n",
       "City_Category                  object\n",
       "Stay_In_Current_City_Years     object\n",
       "Marital_Status                  int64\n",
       "Product_Category_1              int64\n",
       "Product_Category_2            float64\n",
       "Product_Category_3            float64\n",
       "Purchase                        int64\n",
       "dtype: object"
      ]
     },
     "execution_count": 6,
     "metadata": {},
     "output_type": "execute_result"
    }
   ],
   "source": [
    "dataset.dtypes"
   ]
  },
  {
   "cell_type": "markdown",
   "metadata": {
    "_uuid": "a728e0b0de9cd9779c833079a7c1aae6534b5c77",
    "id": "HpU2AEMvyOJY"
   },
   "source": [
    "*Observation* <br>\n",
    "Most of the columns are *'numeric* except 5 columns "
   ]
  },
  {
   "cell_type": "code",
   "execution_count": null,
   "metadata": {
    "_uuid": "dd1d80b37a39650dbbbd2de4d106a0ef67de0b2d",
    "id": "Z0I1Wdw_yOJZ",
    "outputId": "9d1917b5-fb11-46b3-d826-b807b0d6f646"
   },
   "outputs": [
    {
     "name": "stdout",
     "output_type": "stream",
     "text": [
      "<class 'pandas.core.frame.DataFrame'>\n",
      "RangeIndex: 537577 entries, 0 to 537576\n",
      "Data columns (total 12 columns):\n",
      " #   Column                      Non-Null Count   Dtype  \n",
      "---  ------                      --------------   -----  \n",
      " 0   User_ID                     537577 non-null  int64  \n",
      " 1   Product_ID                  537577 non-null  object \n",
      " 2   Gender                      537577 non-null  object \n",
      " 3   Age                         537577 non-null  object \n",
      " 4   Occupation                  537577 non-null  int64  \n",
      " 5   City_Category               537577 non-null  object \n",
      " 6   Stay_In_Current_City_Years  537577 non-null  object \n",
      " 7   Marital_Status              537577 non-null  int64  \n",
      " 8   Product_Category_1          537577 non-null  int64  \n",
      " 9   Product_Category_2          370591 non-null  float64\n",
      " 10  Product_Category_3          164278 non-null  float64\n",
      " 11  Purchase                    537577 non-null  int64  \n",
      "dtypes: float64(2), int64(5), object(5)\n",
      "memory usage: 49.2+ MB\n"
     ]
    }
   ],
   "source": [
    "dataset.info()"
   ]
  },
  {
   "cell_type": "markdown",
   "metadata": {
    "_uuid": "ffb81a73cf51affc679b53da2056878e9783dc5f",
    "id": "bTu4XM6xyOJZ"
   },
   "source": [
    "*Observation* <br>\n",
    "Missing data in Product_Category_2 and Product_Category_3 columns"
   ]
  },
  {
   "cell_type": "markdown",
   "metadata": {
    "_uuid": "1148ca371fc624bd3e8743fbd882cd5545b82cdc",
    "id": "-sqJwncYyOJZ"
   },
   "source": [
    "---"
   ]
  },
  {
   "cell_type": "markdown",
   "metadata": {
    "_uuid": "a125739a9eee0c1f9632495c2ad08fbfe9419edb",
    "id": "r7Ff7T7CyOJZ"
   },
   "source": [
    "### 2.0 Data Pre-Processing"
   ]
  },
  {
   "cell_type": "markdown",
   "metadata": {
    "_uuid": "15a663c0d5a2136866b2511163d678ce75efcd73",
    "id": "WXjNiQelyOJa"
   },
   "source": [
    "__Activity__\n",
    "\n",
    "After exploring the given data I could think of the following pre-processing activities <br> \n",
    "that can be carried out on the data, to ensure that it is ready for Machine Learning\n",
    "\n",
    "1. Rename column names : Rename the column names to short names without space, so that it would be easy for coding\n",
    "2. Encode category varaibles to numerics, so that the data can be used for any kind of Machine Learning\n",
    "3. Handling missing values : Check whether Product_ID is correlated to Product Categories and fill in appropriate values\n",
    "4. Explore Multicolinearity"
   ]
  },
  {
   "cell_type": "markdown",
   "metadata": {
    "_uuid": "c54c8444f6d6581b6e254af35ec04de8bfcd6d9e",
    "id": "F_NzD3eXyOJa"
   },
   "source": [
    "#### 2.1 Rename columns"
   ]
  },
  {
   "cell_type": "code",
   "execution_count": null,
   "metadata": {
    "_uuid": "96bb58bf5190d950fcd5f4945d8619bd820e89d9",
    "id": "t1enFFVWyOJa",
    "outputId": "7b6d8095-693f-4407-c1ce-71befcdfa073"
   },
   "outputs": [
    {
     "data": {
      "text/plain": [
       "Index(['User_ID', 'Product_ID', 'Gender', 'Age', 'Occupation', 'City_Category',\n",
       "       'Stay_In_Current_City_Years', 'Marital_Status', 'Product_Category_1',\n",
       "       'Product_Category_2', 'Product_Category_3', 'Purchase'],\n",
       "      dtype='object')"
      ]
     },
     "execution_count": 7,
     "metadata": {},
     "output_type": "execute_result"
    }
   ],
   "source": [
    "#Get Dataset Columns\n",
    "dataset.columns"
   ]
  },
  {
   "cell_type": "code",
   "execution_count": null,
   "metadata": {
    "_uuid": "e6e40e85b15ee7246b11dd0b44bcefcc23b570ec",
    "id": "5yp9KHmqyOJa"
   },
   "outputs": [],
   "source": [
    "#Rename Dateset Columns\n",
    "dataset.columns = ['UserID', 'ProductID', 'Gender', 'Age', 'Occupation', 'CityCategory',\n",
    "       'StayYearsCity', 'MaritalStatus', 'ProdCat1',\n",
    "       'ProdCat2', 'ProdCat3', 'Purchase']"
   ]
  },
  {
   "cell_type": "code",
   "execution_count": null,
   "metadata": {
    "_uuid": "33282032918c8ff79ea29125141610b81f14d65e",
    "id": "IVC0A8OHyOJb",
    "outputId": "98e306af-c0bd-4b90-ec23-68736e156749"
   },
   "outputs": [
    {
     "data": {
      "text/plain": [
       "Index(['UserID', 'ProductID', 'Gender', 'Age', 'Occupation', 'CityCategory',\n",
       "       'StayYearsCity', 'MaritalStatus', 'ProdCat1', 'ProdCat2', 'ProdCat3',\n",
       "       'Purchase'],\n",
       "      dtype='object')"
      ]
     },
     "execution_count": 9,
     "metadata": {},
     "output_type": "execute_result"
    }
   ],
   "source": [
    "#show New Columns\n",
    "dataset.columns"
   ]
  },
  {
   "cell_type": "code",
   "execution_count": null,
   "metadata": {
    "_uuid": "0cc81ebe5398548eed328ec521db0c2f1a31060a",
    "id": "g560PZynyOJb",
    "outputId": "f89d66b4-5747-4a0c-86bc-66c43e836805"
   },
   "outputs": [
    {
     "data": {
      "text/plain": [
       "0    Unmarried\n",
       "1    Unmarried\n",
       "2    Unmarried\n",
       "3    Unmarried\n",
       "4    Unmarried\n",
       "Name: MaritalStatus, dtype: object"
      ]
     },
     "execution_count": 10,
     "metadata": {},
     "output_type": "execute_result"
    }
   ],
   "source": [
    "# Replacing 0s and 1s in the Marital status column with the appropriate strings\n",
    "dataset['MaritalStatus'] = dataset['MaritalStatus'].replace(0, 'Unmarried')\n",
    "dataset['MaritalStatus'] = dataset['MaritalStatus'].replace(1, 'Married')\n",
    "dataset['MaritalStatus'].head()"
   ]
  },
  {
   "cell_type": "code",
   "execution_count": null,
   "metadata": {
    "_uuid": "d58436ee4fa7f391d4ca1d7cca07703548d7473f",
    "id": "Ma2w-aXayOJc",
    "outputId": "1c5cbb4e-fac4-4ce2-a1d4-d67dfedda7f3"
   },
   "outputs": [
    {
     "data": {
      "text/plain": [
       "array(['Unmarried', 'Married'], dtype=object)"
      ]
     },
     "execution_count": 11,
     "metadata": {},
     "output_type": "execute_result"
    }
   ],
   "source": [
    "dataset['MaritalStatus'].unique()"
   ]
  },
  {
   "cell_type": "markdown",
   "metadata": {
    "_uuid": "6b480cbf88d43aa8d04a977f8f46179feb795550",
    "id": "pq3VivBRyOJc"
   },
   "source": [
    "__Create copy of dataset 'before encoding'__\n",
    "> Creating a copy of the dataset before encoding the values <br>\n",
    "This is mainly done to use the values for 'visualization' purpose, with actual values"
   ]
  },
  {
   "cell_type": "code",
   "execution_count": null,
   "metadata": {
    "_uuid": "4d2bb99d905e7e18282ea2f5a6105fa483d74145",
    "id": "7oF-5cmuyOJc"
   },
   "outputs": [],
   "source": [
    "#Create Copy of Dataset\n",
    "dataset_orig = dataset.copy()"
   ]
  },
  {
   "cell_type": "markdown",
   "metadata": {
    "_uuid": "90a9fd65d811498bf5bba916d10a74fd0dd55715",
    "id": "QHF9z69VyOJd"
   },
   "source": [
    "#### 2.2 Encoding categorical varaibles to numerics"
   ]
  },
  {
   "cell_type": "code",
   "execution_count": null,
   "metadata": {
    "_uuid": "195786090e9883d3b277c9f9f43ebc8898c81c77",
    "id": "AJzeydf2yOJd"
   },
   "outputs": [],
   "source": [
    "# Importing required package\n",
    "from sklearn.preprocessing import LabelEncoder\n",
    "encode_x = LabelEncoder()"
   ]
  },
  {
   "cell_type": "code",
   "execution_count": null,
   "metadata": {
    "_uuid": "d6cf48316091a7e6203ae253c37cf6dd2ffe88f1",
    "id": "60q3wQGfyOJd",
    "outputId": "90d276eb-a0d7-4480-f9de-c6b7d4a94dd5"
   },
   "outputs": [
    {
     "data": {
      "text/html": [
       "<div>\n",
       "<style scoped>\n",
       "    .dataframe tbody tr th:only-of-type {\n",
       "        vertical-align: middle;\n",
       "    }\n",
       "\n",
       "    .dataframe tbody tr th {\n",
       "        vertical-align: top;\n",
       "    }\n",
       "\n",
       "    .dataframe thead th {\n",
       "        text-align: right;\n",
       "    }\n",
       "</style>\n",
       "<table border=\"1\" class=\"dataframe\">\n",
       "  <thead>\n",
       "    <tr style=\"text-align: right;\">\n",
       "      <th></th>\n",
       "      <th>UserID</th>\n",
       "      <th>ProductID</th>\n",
       "      <th>Gender</th>\n",
       "      <th>Age</th>\n",
       "      <th>Occupation</th>\n",
       "      <th>CityCategory</th>\n",
       "      <th>StayYearsCity</th>\n",
       "      <th>MaritalStatus</th>\n",
       "      <th>ProdCat1</th>\n",
       "      <th>ProdCat2</th>\n",
       "      <th>ProdCat3</th>\n",
       "      <th>Purchase</th>\n",
       "    </tr>\n",
       "  </thead>\n",
       "  <tbody>\n",
       "    <tr>\n",
       "      <th>0</th>\n",
       "      <td>1000001</td>\n",
       "      <td>P00069042</td>\n",
       "      <td>F</td>\n",
       "      <td>0-17</td>\n",
       "      <td>10</td>\n",
       "      <td>A</td>\n",
       "      <td>2</td>\n",
       "      <td>Unmarried</td>\n",
       "      <td>3</td>\n",
       "      <td>NaN</td>\n",
       "      <td>NaN</td>\n",
       "      <td>8370</td>\n",
       "    </tr>\n",
       "    <tr>\n",
       "      <th>1</th>\n",
       "      <td>1000001</td>\n",
       "      <td>P00248942</td>\n",
       "      <td>F</td>\n",
       "      <td>0-17</td>\n",
       "      <td>10</td>\n",
       "      <td>A</td>\n",
       "      <td>2</td>\n",
       "      <td>Unmarried</td>\n",
       "      <td>1</td>\n",
       "      <td>6.0</td>\n",
       "      <td>14.0</td>\n",
       "      <td>15200</td>\n",
       "    </tr>\n",
       "    <tr>\n",
       "      <th>2</th>\n",
       "      <td>1000001</td>\n",
       "      <td>P00087842</td>\n",
       "      <td>F</td>\n",
       "      <td>0-17</td>\n",
       "      <td>10</td>\n",
       "      <td>A</td>\n",
       "      <td>2</td>\n",
       "      <td>Unmarried</td>\n",
       "      <td>12</td>\n",
       "      <td>NaN</td>\n",
       "      <td>NaN</td>\n",
       "      <td>1422</td>\n",
       "    </tr>\n",
       "    <tr>\n",
       "      <th>3</th>\n",
       "      <td>1000001</td>\n",
       "      <td>P00085442</td>\n",
       "      <td>F</td>\n",
       "      <td>0-17</td>\n",
       "      <td>10</td>\n",
       "      <td>A</td>\n",
       "      <td>2</td>\n",
       "      <td>Unmarried</td>\n",
       "      <td>12</td>\n",
       "      <td>14.0</td>\n",
       "      <td>NaN</td>\n",
       "      <td>1057</td>\n",
       "    </tr>\n",
       "    <tr>\n",
       "      <th>4</th>\n",
       "      <td>1000002</td>\n",
       "      <td>P00285442</td>\n",
       "      <td>M</td>\n",
       "      <td>55+</td>\n",
       "      <td>16</td>\n",
       "      <td>C</td>\n",
       "      <td>4+</td>\n",
       "      <td>Unmarried</td>\n",
       "      <td>8</td>\n",
       "      <td>NaN</td>\n",
       "      <td>NaN</td>\n",
       "      <td>7969</td>\n",
       "    </tr>\n",
       "  </tbody>\n",
       "</table>\n",
       "</div>"
      ],
      "text/plain": [
       "    UserID  ProductID Gender   Age  Occupation CityCategory StayYearsCity  \\\n",
       "0  1000001  P00069042      F  0-17          10            A             2   \n",
       "1  1000001  P00248942      F  0-17          10            A             2   \n",
       "2  1000001  P00087842      F  0-17          10            A             2   \n",
       "3  1000001  P00085442      F  0-17          10            A             2   \n",
       "4  1000002  P00285442      M   55+          16            C            4+   \n",
       "\n",
       "  MaritalStatus  ProdCat1  ProdCat2  ProdCat3  Purchase  \n",
       "0     Unmarried         3       NaN       NaN      8370  \n",
       "1     Unmarried         1       6.0      14.0     15200  \n",
       "2     Unmarried        12       NaN       NaN      1422  \n",
       "3     Unmarried        12      14.0       NaN      1057  \n",
       "4     Unmarried         8       NaN       NaN      7969  "
      ]
     },
     "execution_count": 14,
     "metadata": {},
     "output_type": "execute_result"
    }
   ],
   "source": [
    "dataset.head()"
   ]
  },
  {
   "cell_type": "code",
   "execution_count": null,
   "metadata": {
    "_uuid": "920b07ae3a99e7664667126299c3d198a1760391",
    "id": "dV0cXll1yOJd"
   },
   "outputs": [],
   "source": [
    "# Encoding columns using Label Encoding\n",
    "dataset['ProductID'] = encode_x.fit_transform(dataset['ProductID'])\n",
    "dataset['Age'] = encode_x.fit_transform(dataset['Age'])\n",
    "dataset['CityCategory'] = encode_x.fit_transform(dataset['CityCategory'])\n",
    "#dataset['MaritalStatus'] = encode_x.fit_transform(dataset['MaritalStatus'])\n",
    "\n",
    "#Encoding Columns using Label Mapping\n",
    "#map_dict = {'A': 10, 'B': 15}\n",
    "# then we will use dictionary map_dict to map Object data type to int8\n",
    "#dataset['CityCategory'] = dataset['Gender'].map(map_dict)"
   ]
  },
  {
   "cell_type": "code",
   "execution_count": null,
   "metadata": {
    "id": "rTXqZJiNyOJe",
    "outputId": "ed1b44ac-a424-4138-f1db-1eaccfddbc7b"
   },
   "outputs": [
    {
     "data": {
      "text/html": [
       "<div>\n",
       "<style scoped>\n",
       "    .dataframe tbody tr th:only-of-type {\n",
       "        vertical-align: middle;\n",
       "    }\n",
       "\n",
       "    .dataframe tbody tr th {\n",
       "        vertical-align: top;\n",
       "    }\n",
       "\n",
       "    .dataframe thead th {\n",
       "        text-align: right;\n",
       "    }\n",
       "</style>\n",
       "<table border=\"1\" class=\"dataframe\">\n",
       "  <thead>\n",
       "    <tr style=\"text-align: right;\">\n",
       "      <th></th>\n",
       "      <th>UserID</th>\n",
       "      <th>ProductID</th>\n",
       "      <th>Gender</th>\n",
       "      <th>Age</th>\n",
       "      <th>Occupation</th>\n",
       "      <th>CityCategory</th>\n",
       "      <th>StayYearsCity</th>\n",
       "      <th>MaritalStatus</th>\n",
       "      <th>ProdCat1</th>\n",
       "      <th>ProdCat2</th>\n",
       "      <th>ProdCat3</th>\n",
       "      <th>Purchase</th>\n",
       "    </tr>\n",
       "  </thead>\n",
       "  <tbody>\n",
       "    <tr>\n",
       "      <th>0</th>\n",
       "      <td>1000001</td>\n",
       "      <td>670</td>\n",
       "      <td>F</td>\n",
       "      <td>0</td>\n",
       "      <td>10</td>\n",
       "      <td>0</td>\n",
       "      <td>2</td>\n",
       "      <td>Unmarried</td>\n",
       "      <td>3</td>\n",
       "      <td>NaN</td>\n",
       "      <td>NaN</td>\n",
       "      <td>8370</td>\n",
       "    </tr>\n",
       "    <tr>\n",
       "      <th>1</th>\n",
       "      <td>1000001</td>\n",
       "      <td>2374</td>\n",
       "      <td>F</td>\n",
       "      <td>0</td>\n",
       "      <td>10</td>\n",
       "      <td>0</td>\n",
       "      <td>2</td>\n",
       "      <td>Unmarried</td>\n",
       "      <td>1</td>\n",
       "      <td>6.0</td>\n",
       "      <td>14.0</td>\n",
       "      <td>15200</td>\n",
       "    </tr>\n",
       "    <tr>\n",
       "      <th>2</th>\n",
       "      <td>1000001</td>\n",
       "      <td>850</td>\n",
       "      <td>F</td>\n",
       "      <td>0</td>\n",
       "      <td>10</td>\n",
       "      <td>0</td>\n",
       "      <td>2</td>\n",
       "      <td>Unmarried</td>\n",
       "      <td>12</td>\n",
       "      <td>NaN</td>\n",
       "      <td>NaN</td>\n",
       "      <td>1422</td>\n",
       "    </tr>\n",
       "    <tr>\n",
       "      <th>3</th>\n",
       "      <td>1000001</td>\n",
       "      <td>826</td>\n",
       "      <td>F</td>\n",
       "      <td>0</td>\n",
       "      <td>10</td>\n",
       "      <td>0</td>\n",
       "      <td>2</td>\n",
       "      <td>Unmarried</td>\n",
       "      <td>12</td>\n",
       "      <td>14.0</td>\n",
       "      <td>NaN</td>\n",
       "      <td>1057</td>\n",
       "    </tr>\n",
       "    <tr>\n",
       "      <th>4</th>\n",
       "      <td>1000002</td>\n",
       "      <td>2732</td>\n",
       "      <td>M</td>\n",
       "      <td>6</td>\n",
       "      <td>16</td>\n",
       "      <td>2</td>\n",
       "      <td>4+</td>\n",
       "      <td>Unmarried</td>\n",
       "      <td>8</td>\n",
       "      <td>NaN</td>\n",
       "      <td>NaN</td>\n",
       "      <td>7969</td>\n",
       "    </tr>\n",
       "  </tbody>\n",
       "</table>\n",
       "</div>"
      ],
      "text/plain": [
       "    UserID  ProductID Gender  Age  Occupation  CityCategory StayYearsCity  \\\n",
       "0  1000001        670      F    0          10             0             2   \n",
       "1  1000001       2374      F    0          10             0             2   \n",
       "2  1000001        850      F    0          10             0             2   \n",
       "3  1000001        826      F    0          10             0             2   \n",
       "4  1000002       2732      M    6          16             2            4+   \n",
       "\n",
       "  MaritalStatus  ProdCat1  ProdCat2  ProdCat3  Purchase  \n",
       "0     Unmarried         3       NaN       NaN      8370  \n",
       "1     Unmarried         1       6.0      14.0     15200  \n",
       "2     Unmarried        12       NaN       NaN      1422  \n",
       "3     Unmarried        12      14.0       NaN      1057  \n",
       "4     Unmarried         8       NaN       NaN      7969  "
      ]
     },
     "execution_count": 16,
     "metadata": {},
     "output_type": "execute_result"
    }
   ],
   "source": [
    "dataset.head()"
   ]
  },
  {
   "cell_type": "code",
   "execution_count": null,
   "metadata": {
    "id": "TFQJQwftyOJe",
    "outputId": "412c61b7-f5ef-4da4-e7e6-9bae472ee5ac"
   },
   "outputs": [
    {
     "data": {
      "text/html": [
       "<div>\n",
       "<style scoped>\n",
       "    .dataframe tbody tr th:only-of-type {\n",
       "        vertical-align: middle;\n",
       "    }\n",
       "\n",
       "    .dataframe tbody tr th {\n",
       "        vertical-align: top;\n",
       "    }\n",
       "\n",
       "    .dataframe thead th {\n",
       "        text-align: right;\n",
       "    }\n",
       "</style>\n",
       "<table border=\"1\" class=\"dataframe\">\n",
       "  <thead>\n",
       "    <tr style=\"text-align: right;\">\n",
       "      <th></th>\n",
       "      <th>Gender_F</th>\n",
       "      <th>Gender_M</th>\n",
       "    </tr>\n",
       "  </thead>\n",
       "  <tbody>\n",
       "    <tr>\n",
       "      <th>0</th>\n",
       "      <td>1</td>\n",
       "      <td>0</td>\n",
       "    </tr>\n",
       "    <tr>\n",
       "      <th>1</th>\n",
       "      <td>1</td>\n",
       "      <td>0</td>\n",
       "    </tr>\n",
       "    <tr>\n",
       "      <th>2</th>\n",
       "      <td>1</td>\n",
       "      <td>0</td>\n",
       "    </tr>\n",
       "    <tr>\n",
       "      <th>3</th>\n",
       "      <td>1</td>\n",
       "      <td>0</td>\n",
       "    </tr>\n",
       "    <tr>\n",
       "      <th>4</th>\n",
       "      <td>0</td>\n",
       "      <td>1</td>\n",
       "    </tr>\n",
       "  </tbody>\n",
       "</table>\n",
       "</div>"
      ],
      "text/plain": [
       "   Gender_F  Gender_M\n",
       "0         1         0\n",
       "1         1         0\n",
       "2         1         0\n",
       "3         1         0\n",
       "4         0         1"
      ]
     },
     "execution_count": 17,
     "metadata": {},
     "output_type": "execute_result"
    }
   ],
   "source": [
    "#create Dummy Variables for Male and Female   ,drop_first=True\n",
    "y=pd.get_dummies(dataset['Gender'], prefix='Gender')\n",
    "y.head()"
   ]
  },
  {
   "cell_type": "code",
   "execution_count": null,
   "metadata": {
    "id": "eHIduYBSyOJf",
    "outputId": "a30b49da-b317-4557-c6a9-11d427b9f676"
   },
   "outputs": [
    {
     "data": {
      "text/html": [
       "<div>\n",
       "<style scoped>\n",
       "    .dataframe tbody tr th:only-of-type {\n",
       "        vertical-align: middle;\n",
       "    }\n",
       "\n",
       "    .dataframe tbody tr th {\n",
       "        vertical-align: top;\n",
       "    }\n",
       "\n",
       "    .dataframe thead th {\n",
       "        text-align: right;\n",
       "    }\n",
       "</style>\n",
       "<table border=\"1\" class=\"dataframe\">\n",
       "  <thead>\n",
       "    <tr style=\"text-align: right;\">\n",
       "      <th></th>\n",
       "      <th>UserID</th>\n",
       "      <th>ProductID</th>\n",
       "      <th>Age</th>\n",
       "      <th>Occupation</th>\n",
       "      <th>CityCategory</th>\n",
       "      <th>StayYearsCity</th>\n",
       "      <th>MaritalStatus</th>\n",
       "      <th>ProdCat1</th>\n",
       "      <th>ProdCat2</th>\n",
       "      <th>ProdCat3</th>\n",
       "      <th>Purchase</th>\n",
       "      <th>Gender_M</th>\n",
       "    </tr>\n",
       "  </thead>\n",
       "  <tbody>\n",
       "    <tr>\n",
       "      <th>0</th>\n",
       "      <td>1000001</td>\n",
       "      <td>670</td>\n",
       "      <td>0</td>\n",
       "      <td>10</td>\n",
       "      <td>0</td>\n",
       "      <td>2</td>\n",
       "      <td>Unmarried</td>\n",
       "      <td>3</td>\n",
       "      <td>NaN</td>\n",
       "      <td>NaN</td>\n",
       "      <td>8370</td>\n",
       "      <td>0</td>\n",
       "    </tr>\n",
       "    <tr>\n",
       "      <th>1</th>\n",
       "      <td>1000001</td>\n",
       "      <td>2374</td>\n",
       "      <td>0</td>\n",
       "      <td>10</td>\n",
       "      <td>0</td>\n",
       "      <td>2</td>\n",
       "      <td>Unmarried</td>\n",
       "      <td>1</td>\n",
       "      <td>6.0</td>\n",
       "      <td>14.0</td>\n",
       "      <td>15200</td>\n",
       "      <td>0</td>\n",
       "    </tr>\n",
       "    <tr>\n",
       "      <th>2</th>\n",
       "      <td>1000001</td>\n",
       "      <td>850</td>\n",
       "      <td>0</td>\n",
       "      <td>10</td>\n",
       "      <td>0</td>\n",
       "      <td>2</td>\n",
       "      <td>Unmarried</td>\n",
       "      <td>12</td>\n",
       "      <td>NaN</td>\n",
       "      <td>NaN</td>\n",
       "      <td>1422</td>\n",
       "      <td>0</td>\n",
       "    </tr>\n",
       "    <tr>\n",
       "      <th>3</th>\n",
       "      <td>1000001</td>\n",
       "      <td>826</td>\n",
       "      <td>0</td>\n",
       "      <td>10</td>\n",
       "      <td>0</td>\n",
       "      <td>2</td>\n",
       "      <td>Unmarried</td>\n",
       "      <td>12</td>\n",
       "      <td>14.0</td>\n",
       "      <td>NaN</td>\n",
       "      <td>1057</td>\n",
       "      <td>0</td>\n",
       "    </tr>\n",
       "    <tr>\n",
       "      <th>4</th>\n",
       "      <td>1000002</td>\n",
       "      <td>2732</td>\n",
       "      <td>6</td>\n",
       "      <td>16</td>\n",
       "      <td>2</td>\n",
       "      <td>4+</td>\n",
       "      <td>Unmarried</td>\n",
       "      <td>8</td>\n",
       "      <td>NaN</td>\n",
       "      <td>NaN</td>\n",
       "      <td>7969</td>\n",
       "      <td>1</td>\n",
       "    </tr>\n",
       "  </tbody>\n",
       "</table>\n",
       "</div>"
      ],
      "text/plain": [
       "    UserID  ProductID  Age  Occupation  CityCategory StayYearsCity  \\\n",
       "0  1000001        670    0          10             0             2   \n",
       "1  1000001       2374    0          10             0             2   \n",
       "2  1000001        850    0          10             0             2   \n",
       "3  1000001        826    0          10             0             2   \n",
       "4  1000002       2732    6          16             2            4+   \n",
       "\n",
       "  MaritalStatus  ProdCat1  ProdCat2  ProdCat3  Purchase  Gender_M  \n",
       "0     Unmarried         3       NaN       NaN      8370         0  \n",
       "1     Unmarried         1       6.0      14.0     15200         0  \n",
       "2     Unmarried        12       NaN       NaN      1422         0  \n",
       "3     Unmarried        12      14.0       NaN      1057         0  \n",
       "4     Unmarried         8       NaN       NaN      7969         1  "
      ]
     },
     "execution_count": 35,
     "metadata": {},
     "output_type": "execute_result"
    }
   ],
   "source": [
    "dataset=pd.concat([dataset,pd.get_dummies(dataset['Gender'],prefix='Gender',drop_first=True)],axis=1)   \n",
    "dataset.drop(['Gender'],axis=1, inplace=True)\n",
    "dataset.head()\n",
    "#c.head();"
   ]
  },
  {
   "cell_type": "code",
   "execution_count": null,
   "metadata": {
    "id": "c7wfuF6qyOJf"
   },
   "outputs": [],
   "source": [
    "dataset.head()"
   ]
  },
  {
   "cell_type": "code",
   "execution_count": null,
   "metadata": {
    "_uuid": "a5f133d257f83b1662d67848c959caa90850b543",
    "id": "-5kuN67syOJf",
    "outputId": "392bb368-dc5f-40c2-d0ef-068246916cf9"
   },
   "outputs": [
    {
     "data": {
      "text/plain": [
       "array(['2', '4+', '3', '1', '0'], dtype=object)"
      ]
     },
     "execution_count": 23,
     "metadata": {},
     "output_type": "execute_result"
    }
   ],
   "source": [
    "dataset.StayYearsCity.unique()"
   ]
  },
  {
   "cell_type": "code",
   "execution_count": null,
   "metadata": {
    "_uuid": "d1de01f3790566242edd57ac2359cc568d70d862",
    "id": "V1zqPA-oyOJf"
   },
   "outputs": [],
   "source": [
    "# Replacing '4+' years of with numerical number 4 \n",
    "dataset['StayYearsCity'] = dataset['StayYearsCity'].replace('4+', 4)"
   ]
  },
  {
   "cell_type": "code",
   "execution_count": null,
   "metadata": {
    "_uuid": "80ddf3612184259dc086a8316ed130e3053267db",
    "id": "CHa1vuNDyOJf",
    "outputId": "4d2826e5-d30e-4bb1-815a-03cddb6e0a1b"
   },
   "outputs": [
    {
     "name": "stdout",
     "output_type": "stream",
     "text": [
      "<class 'pandas.core.frame.DataFrame'>\n",
      "RangeIndex: 537577 entries, 0 to 537576\n",
      "Data columns (total 13 columns):\n",
      " #   Column         Non-Null Count   Dtype  \n",
      "---  ------         --------------   -----  \n",
      " 0   UserID         537577 non-null  int64  \n",
      " 1   ProductID      537577 non-null  int64  \n",
      " 2   Age            537577 non-null  int64  \n",
      " 3   Occupation     537577 non-null  int64  \n",
      " 4   CityCategory   537577 non-null  int64  \n",
      " 5   StayYearsCity  537577 non-null  object \n",
      " 6   MaritalStatus  537577 non-null  object \n",
      " 7   ProdCat1       537577 non-null  int64  \n",
      " 8   ProdCat2       370591 non-null  float64\n",
      " 9   ProdCat3       164278 non-null  float64\n",
      " 10  Purchase       537577 non-null  int64  \n",
      " 11  Gender_F       537577 non-null  uint8  \n",
      " 12  Gender_M       537577 non-null  uint8  \n",
      "dtypes: float64(2), int64(7), object(2), uint8(2)\n",
      "memory usage: 46.1+ MB\n"
     ]
    }
   ],
   "source": [
    "dataset.info()"
   ]
  },
  {
   "cell_type": "code",
   "execution_count": null,
   "metadata": {
    "_uuid": "1564daa00ac6961b1b83d36bb526f187a195c220",
    "id": "IDw1vpFFyOJg"
   },
   "outputs": [],
   "source": [
    "# Converting StayYearsCity from object to integer\n",
    "dataset['StayYearsCity'] = dataset['StayYearsCity'].astype(str).astype('int64')\n",
    "dataset['Gender_F'] = dataset['Gender_F'].astype(str).astype('int64')\n",
    "dataset['Gender_M'] = dataset['Gender_M'].astype(str).astype('int64')"
   ]
  },
  {
   "cell_type": "code",
   "execution_count": null,
   "metadata": {
    "_uuid": "e03fcce4b324ff556e8cb6e596c08eaf3e611821",
    "id": "HDa1h7nfyOJg",
    "outputId": "44a18f1f-8794-49bb-b4c2-08af71f5a134"
   },
   "outputs": [
    {
     "name": "stdout",
     "output_type": "stream",
     "text": [
      "<class 'pandas.core.frame.DataFrame'>\n",
      "RangeIndex: 537577 entries, 0 to 537576\n",
      "Data columns (total 13 columns):\n",
      " #   Column         Non-Null Count   Dtype  \n",
      "---  ------         --------------   -----  \n",
      " 0   UserID         537577 non-null  int64  \n",
      " 1   ProductID      537577 non-null  int32  \n",
      " 2   Age            537577 non-null  int32  \n",
      " 3   Occupation     537577 non-null  int64  \n",
      " 4   CityCategory   537577 non-null  int32  \n",
      " 5   StayYearsCity  537577 non-null  int64  \n",
      " 6   MaritalStatus  537577 non-null  int32  \n",
      " 7   ProdCat1       537577 non-null  int64  \n",
      " 8   ProdCat2       370591 non-null  float64\n",
      " 9   ProdCat3       164278 non-null  float64\n",
      " 10  Purchase       537577 non-null  int64  \n",
      " 11  Gender_F       537577 non-null  int64  \n",
      " 12  Gender_M       537577 non-null  int64  \n",
      "dtypes: float64(2), int32(4), int64(7)\n",
      "memory usage: 45.1 MB\n"
     ]
    }
   ],
   "source": [
    "dataset.info()"
   ]
  },
  {
   "cell_type": "markdown",
   "metadata": {
    "_uuid": "fde37ffe6f3c9bc5db473a10d93fa6ba82e2f850",
    "id": "HERGEat3yOJg"
   },
   "source": [
    "#### 2.3 Handling Missing Values"
   ]
  },
  {
   "cell_type": "markdown",
   "metadata": {
    "_uuid": "8124497144c4509a562c4bb909467d1f3c76b40b",
    "id": "lZNWUswWyOJg"
   },
   "source": [
    "Examining __whether Product Category 2 and 3 are correlated__ to the __Product ID__"
   ]
  },
  {
   "cell_type": "code",
   "execution_count": null,
   "metadata": {
    "_uuid": "7ca02849378dafddb7c889a272e330cb36ac3252",
    "id": "XSVhLBKayOJg"
   },
   "outputs": [],
   "source": [
    "# Creating list of index 'without' null values on column ProdCat2\n",
    "no_null_list1 = dataset[~dataset['ProdCat2'].isnull()].index.tolist()\n"
   ]
  },
  {
   "cell_type": "code",
   "execution_count": null,
   "metadata": {
    "_uuid": "99b7558976010e751b8f425d5e071853145aad69",
    "id": "X_5n53glyOJh",
    "outputId": "5297316d-4373-4263-ed48-9086d100c977"
   },
   "outputs": [
    {
     "data": {
      "text/plain": [
       "0.01414284133575158"
      ]
     },
     "execution_count": 30,
     "metadata": {},
     "output_type": "execute_result"
    }
   ],
   "source": [
    "dataset['ProductID'][no_null_list1].corr(dataset['ProdCat2'][no_null_list1])"
   ]
  },
  {
   "cell_type": "code",
   "execution_count": null,
   "metadata": {
    "_uuid": "2a87d1aa9d8fbbba09e196be67f3571fadbe5fc3",
    "id": "_jLNHXSpyOJh"
   },
   "outputs": [],
   "source": [
    "# Creating list of index 'without' null values on column ProdCat2\n",
    "no_null_list2 = dataset[~dataset['ProdCat3'].isnull()].index.tolist()"
   ]
  },
  {
   "cell_type": "code",
   "execution_count": null,
   "metadata": {
    "_uuid": "0c99a70659875d387b6c26669bfe0cb33ccf911c",
    "id": "NRVxtxYIyOJh",
    "outputId": "2f7e2b2b-5f8f-482d-b720-87f1241597b6"
   },
   "outputs": [
    {
     "data": {
      "text/plain": [
       "0.027218212772966405"
      ]
     },
     "execution_count": 32,
     "metadata": {},
     "output_type": "execute_result"
    }
   ],
   "source": [
    "dataset['ProductID'][no_null_list2].corr(dataset['ProdCat3'][no_null_list2])"
   ]
  },
  {
   "cell_type": "markdown",
   "metadata": {
    "_uuid": "41a06802ccafe1f7f3aaec8e553fd1da9024b422",
    "id": "gUJrlFe6yOJh"
   },
   "source": [
    "__Observation__ : <br>\n",
    "From the correlation function, it can be concluded that the 'Product ID' is __NOT correlated__ to <br>\n",
    "either ProdCat2 or ProdCat3"
   ]
  },
  {
   "cell_type": "code",
   "execution_count": null,
   "metadata": {
    "_uuid": "5143234f2310971ccaa1322209fd1fd0f5742441",
    "id": "YvcYuqlEyOJh",
    "outputId": "3f81aef9-789e-415e-e894-52da13e02323"
   },
   "outputs": [
    {
     "name": "stdout",
     "output_type": "stream",
     "text": [
      "Missing Product Category2 values : 166986\n",
      "Missing Product Category3 values : 373299\n"
     ]
    }
   ],
   "source": [
    "print(\"Missing Product Category2 values :\", len(dataset)-len(no_null_list1))\n",
    "print(\"Missing Product Category3 values :\", len(dataset)-len(no_null_list2))"
   ]
  },
  {
   "cell_type": "code",
   "execution_count": null,
   "metadata": {
    "_uuid": "73469c7bec5275f1f754b378e03ccc6fcf6cffeb",
    "id": "LGeYxcXwyOJh",
    "outputId": "516ffab7-2f2d-410a-e7a5-ec44a32f3db3"
   },
   "outputs": [
    {
     "data": {
      "text/plain": [
       "array([nan,  6., 14.,  2.,  8., 15., 16., 11.,  5.,  3.,  4., 12.,  9.,\n",
       "       10., 17., 13.,  7., 18.])"
      ]
     },
     "execution_count": 34,
     "metadata": {},
     "output_type": "execute_result"
    }
   ],
   "source": [
    "# Checking values contained in ProdCat2 and ProdCat3\n",
    "dataset['ProdCat2'].unique()"
   ]
  },
  {
   "cell_type": "code",
   "execution_count": null,
   "metadata": {
    "_uuid": "eb152ff29ab915b41ae8480f20bf3534386a3b2f",
    "id": "205MZCP7yOJh",
    "outputId": "c8b717cc-a2fb-43a2-f587-6844c6c6108d"
   },
   "outputs": [
    {
     "data": {
      "text/plain": [
       "array([nan, 14., 17.,  5.,  4., 16., 15.,  8.,  9., 13.,  6., 12.,  3.,\n",
       "       18., 11., 10.])"
      ]
     },
     "execution_count": 35,
     "metadata": {},
     "output_type": "execute_result"
    }
   ],
   "source": [
    "dataset['ProdCat3'].unique()"
   ]
  },
  {
   "cell_type": "markdown",
   "metadata": {
    "_uuid": "41f8d47300bae03496b4d3b451e4fdde25beb930",
    "id": "uxsSS4PJyOJi"
   },
   "source": [
    "__Conclusion__ : <br>\n",
    " It appears that the values in ProdCat2 and ProdCat3 are numeric categories. <br>\n",
    " Hence, replacing the 'NaN' with 0s and can be assumed as 'missing' category value."
   ]
  },
  {
   "cell_type": "code",
   "execution_count": null,
   "metadata": {
    "id": "rFUvWb_HyOJi",
    "outputId": "bed6e089-3717-4405-e9f4-a9f7388e58fd"
   },
   "outputs": [
    {
     "data": {
      "text/html": [
       "<div>\n",
       "<style scoped>\n",
       "    .dataframe tbody tr th:only-of-type {\n",
       "        vertical-align: middle;\n",
       "    }\n",
       "\n",
       "    .dataframe tbody tr th {\n",
       "        vertical-align: top;\n",
       "    }\n",
       "\n",
       "    .dataframe thead th {\n",
       "        text-align: right;\n",
       "    }\n",
       "</style>\n",
       "<table border=\"1\" class=\"dataframe\">\n",
       "  <thead>\n",
       "    <tr style=\"text-align: right;\">\n",
       "      <th></th>\n",
       "      <th>UserID</th>\n",
       "      <th>ProductID</th>\n",
       "      <th>Age</th>\n",
       "      <th>Occupation</th>\n",
       "      <th>CityCategory</th>\n",
       "      <th>StayYearsCity</th>\n",
       "      <th>MaritalStatus</th>\n",
       "      <th>ProdCat1</th>\n",
       "      <th>ProdCat2</th>\n",
       "      <th>ProdCat3</th>\n",
       "      <th>Purchase</th>\n",
       "      <th>Gender_F</th>\n",
       "      <th>Gender_M</th>\n",
       "    </tr>\n",
       "  </thead>\n",
       "  <tbody>\n",
       "    <tr>\n",
       "      <th>0</th>\n",
       "      <td>1000001</td>\n",
       "      <td>670</td>\n",
       "      <td>9020.126878</td>\n",
       "      <td>10</td>\n",
       "      <td>0</td>\n",
       "      <td>2</td>\n",
       "      <td>1</td>\n",
       "      <td>3</td>\n",
       "      <td>0.0</td>\n",
       "      <td>0.0</td>\n",
       "      <td>8370</td>\n",
       "      <td>1</td>\n",
       "      <td>0</td>\n",
       "    </tr>\n",
       "    <tr>\n",
       "      <th>1</th>\n",
       "      <td>1000001</td>\n",
       "      <td>2374</td>\n",
       "      <td>9020.126878</td>\n",
       "      <td>10</td>\n",
       "      <td>0</td>\n",
       "      <td>2</td>\n",
       "      <td>1</td>\n",
       "      <td>1</td>\n",
       "      <td>6.0</td>\n",
       "      <td>14.0</td>\n",
       "      <td>15200</td>\n",
       "      <td>1</td>\n",
       "      <td>0</td>\n",
       "    </tr>\n",
       "    <tr>\n",
       "      <th>2</th>\n",
       "      <td>1000001</td>\n",
       "      <td>850</td>\n",
       "      <td>9020.126878</td>\n",
       "      <td>10</td>\n",
       "      <td>0</td>\n",
       "      <td>2</td>\n",
       "      <td>1</td>\n",
       "      <td>12</td>\n",
       "      <td>0.0</td>\n",
       "      <td>0.0</td>\n",
       "      <td>1422</td>\n",
       "      <td>1</td>\n",
       "      <td>0</td>\n",
       "    </tr>\n",
       "    <tr>\n",
       "      <th>3</th>\n",
       "      <td>1000001</td>\n",
       "      <td>826</td>\n",
       "      <td>9020.126878</td>\n",
       "      <td>10</td>\n",
       "      <td>0</td>\n",
       "      <td>2</td>\n",
       "      <td>1</td>\n",
       "      <td>12</td>\n",
       "      <td>14.0</td>\n",
       "      <td>0.0</td>\n",
       "      <td>1057</td>\n",
       "      <td>1</td>\n",
       "      <td>0</td>\n",
       "    </tr>\n",
       "    <tr>\n",
       "      <th>4</th>\n",
       "      <td>1000002</td>\n",
       "      <td>2732</td>\n",
       "      <td>9453.898579</td>\n",
       "      <td>16</td>\n",
       "      <td>2</td>\n",
       "      <td>4</td>\n",
       "      <td>1</td>\n",
       "      <td>8</td>\n",
       "      <td>0.0</td>\n",
       "      <td>0.0</td>\n",
       "      <td>7969</td>\n",
       "      <td>0</td>\n",
       "      <td>1</td>\n",
       "    </tr>\n",
       "  </tbody>\n",
       "</table>\n",
       "</div>"
      ],
      "text/plain": [
       "    UserID  ProductID          Age  Occupation  CityCategory  StayYearsCity  \\\n",
       "0  1000001        670  9020.126878          10             0              2   \n",
       "1  1000001       2374  9020.126878          10             0              2   \n",
       "2  1000001        850  9020.126878          10             0              2   \n",
       "3  1000001        826  9020.126878          10             0              2   \n",
       "4  1000002       2732  9453.898579          16             2              4   \n",
       "\n",
       "   MaritalStatus  ProdCat1  ProdCat2  ProdCat3  Purchase  Gender_F  Gender_M  \n",
       "0              1         3       0.0       0.0      8370         1         0  \n",
       "1              1         1       6.0      14.0     15200         1         0  \n",
       "2              1        12       0.0       0.0      1422         1         0  \n",
       "3              1        12      14.0       0.0      1057         1         0  \n",
       "4              1         8       0.0       0.0      7969         0         1  "
      ]
     },
     "execution_count": 70,
     "metadata": {},
     "output_type": "execute_result"
    }
   ],
   "source": [
    "#mean foreach age  (Mean Encoding)\n",
    "c=dataset['Purchase'].groupby(dataset['Age']).mean().to_dict()\n",
    "dataset['Age']=dataset['Age'].map(c)\n",
    "dataset.head()"
   ]
  },
  {
   "cell_type": "code",
   "execution_count": null,
   "metadata": {
    "_uuid": "46e7d0ba750d2e0ef36c5d972815489745c3042e",
    "id": "Qjb36BRRyOJi"
   },
   "outputs": [],
   "source": [
    "dataset['ProdCat2'].fillna(value=0,inplace=True) # or dataset['ProdCat2'].mode()\n",
    "dataset['ProdCat3'].fillna(value=0,inplace=True) #or  dataset['ProdCat2'].median()"
   ]
  },
  {
   "cell_type": "code",
   "execution_count": null,
   "metadata": {
    "id": "eEdGU8vFyOJi",
    "outputId": "e109555d-7077-4062-ee0c-fff6adc22eec"
   },
   "outputs": [
    {
     "data": {
      "text/plain": [
       "array([ 0.,  6., 14.,  2.,  8., 15., 16., 11.,  5.,  3.,  4., 12.,  9.,\n",
       "       10., 17., 13.,  7., 18.])"
      ]
     },
     "execution_count": 16,
     "metadata": {},
     "output_type": "execute_result"
    }
   ],
   "source": [
    "dataset['ProdCat2'].unique()"
   ]
  },
  {
   "cell_type": "code",
   "execution_count": null,
   "metadata": {
    "_uuid": "81148a98660e0f5f696b83f683a824db8652ffb4",
    "id": "xWKy740pyOJi",
    "outputId": "239a452b-a9ef-4a45-a95d-1b58a4fbea80"
   },
   "outputs": [
    {
     "data": {
      "text/plain": [
       "UserID           False\n",
       "ProductID        False\n",
       "Gender           False\n",
       "Age              False\n",
       "Occupation       False\n",
       "CityCategory     False\n",
       "StayYearsCity    False\n",
       "MaritalStatus    False\n",
       "ProdCat1         False\n",
       "ProdCat2         False\n",
       "ProdCat3         False\n",
       "Purchase         False\n",
       "dtype: bool"
      ]
     },
     "execution_count": 15,
     "metadata": {},
     "output_type": "execute_result"
    }
   ],
   "source": [
    "# Recheck for missing values (NaN) in the dataset\n",
    "dataset.isna().any()"
   ]
  },
  {
   "cell_type": "markdown",
   "metadata": {
    "id": "wXdrvgcJyOJi"
   },
   "source": [
    "#### 2.4 Multicolinearity"
   ]
  },
  {
   "cell_type": "code",
   "execution_count": null,
   "metadata": {
    "id": "XhnlWqbgyOJj",
    "outputId": "931dd576-83aa-4ae5-e076-4208b4ad2b72"
   },
   "outputs": [
    {
     "data": {
      "text/html": [
       "<div>\n",
       "<style scoped>\n",
       "    .dataframe tbody tr th:only-of-type {\n",
       "        vertical-align: middle;\n",
       "    }\n",
       "\n",
       "    .dataframe tbody tr th {\n",
       "        vertical-align: top;\n",
       "    }\n",
       "\n",
       "    .dataframe thead th {\n",
       "        text-align: right;\n",
       "    }\n",
       "</style>\n",
       "<table border=\"1\" class=\"dataframe\">\n",
       "  <thead>\n",
       "    <tr style=\"text-align: right;\">\n",
       "      <th></th>\n",
       "      <th>UserID</th>\n",
       "      <th>ProductID</th>\n",
       "      <th>Age</th>\n",
       "      <th>Occupation</th>\n",
       "      <th>CityCategory</th>\n",
       "      <th>ProdCat1</th>\n",
       "      <th>ProdCat2</th>\n",
       "      <th>ProdCat3</th>\n",
       "      <th>Purchase</th>\n",
       "    </tr>\n",
       "  </thead>\n",
       "  <tbody>\n",
       "    <tr>\n",
       "      <th>UserID</th>\n",
       "      <td>1.000000</td>\n",
       "      <td>-0.017500</td>\n",
       "      <td>0.033359</td>\n",
       "      <td>-0.023024</td>\n",
       "      <td>0.024107</td>\n",
       "      <td>0.003687</td>\n",
       "      <td>0.001471</td>\n",
       "      <td>0.004045</td>\n",
       "      <td>0.005389</td>\n",
       "    </tr>\n",
       "    <tr>\n",
       "      <th>ProductID</th>\n",
       "      <td>-0.017500</td>\n",
       "      <td>1.000000</td>\n",
       "      <td>0.022528</td>\n",
       "      <td>0.007309</td>\n",
       "      <td>0.001422</td>\n",
       "      <td>0.026077</td>\n",
       "      <td>0.014143</td>\n",
       "      <td>0.027218</td>\n",
       "      <td>-0.086541</td>\n",
       "    </tr>\n",
       "    <tr>\n",
       "      <th>Age</th>\n",
       "      <td>0.033359</td>\n",
       "      <td>0.022528</td>\n",
       "      <td>1.000000</td>\n",
       "      <td>0.091898</td>\n",
       "      <td>0.122308</td>\n",
       "      <td>0.061951</td>\n",
       "      <td>0.054762</td>\n",
       "      <td>0.057155</td>\n",
       "      <td>0.017717</td>\n",
       "    </tr>\n",
       "    <tr>\n",
       "      <th>Occupation</th>\n",
       "      <td>-0.023024</td>\n",
       "      <td>0.007309</td>\n",
       "      <td>0.091898</td>\n",
       "      <td>1.000000</td>\n",
       "      <td>0.033781</td>\n",
       "      <td>-0.008114</td>\n",
       "      <td>-0.000031</td>\n",
       "      <td>0.013452</td>\n",
       "      <td>0.021104</td>\n",
       "    </tr>\n",
       "    <tr>\n",
       "      <th>CityCategory</th>\n",
       "      <td>0.024107</td>\n",
       "      <td>0.001422</td>\n",
       "      <td>0.122308</td>\n",
       "      <td>0.033781</td>\n",
       "      <td>1.000000</td>\n",
       "      <td>-0.027444</td>\n",
       "      <td>-0.012120</td>\n",
       "      <td>-0.002672</td>\n",
       "      <td>0.068507</td>\n",
       "    </tr>\n",
       "    <tr>\n",
       "      <th>ProdCat1</th>\n",
       "      <td>0.003687</td>\n",
       "      <td>0.026077</td>\n",
       "      <td>0.061951</td>\n",
       "      <td>-0.008114</td>\n",
       "      <td>-0.027444</td>\n",
       "      <td>1.000000</td>\n",
       "      <td>0.540423</td>\n",
       "      <td>0.229490</td>\n",
       "      <td>-0.314125</td>\n",
       "    </tr>\n",
       "    <tr>\n",
       "      <th>ProdCat2</th>\n",
       "      <td>0.001471</td>\n",
       "      <td>0.014143</td>\n",
       "      <td>0.054762</td>\n",
       "      <td>-0.000031</td>\n",
       "      <td>-0.012120</td>\n",
       "      <td>0.540423</td>\n",
       "      <td>1.000000</td>\n",
       "      <td>0.543544</td>\n",
       "      <td>-0.209973</td>\n",
       "    </tr>\n",
       "    <tr>\n",
       "      <th>ProdCat3</th>\n",
       "      <td>0.004045</td>\n",
       "      <td>0.027218</td>\n",
       "      <td>0.057155</td>\n",
       "      <td>0.013452</td>\n",
       "      <td>-0.002672</td>\n",
       "      <td>0.229490</td>\n",
       "      <td>0.543544</td>\n",
       "      <td>1.000000</td>\n",
       "      <td>-0.022257</td>\n",
       "    </tr>\n",
       "    <tr>\n",
       "      <th>Purchase</th>\n",
       "      <td>0.005389</td>\n",
       "      <td>-0.086541</td>\n",
       "      <td>0.017717</td>\n",
       "      <td>0.021104</td>\n",
       "      <td>0.068507</td>\n",
       "      <td>-0.314125</td>\n",
       "      <td>-0.209973</td>\n",
       "      <td>-0.022257</td>\n",
       "      <td>1.000000</td>\n",
       "    </tr>\n",
       "  </tbody>\n",
       "</table>\n",
       "</div>"
      ],
      "text/plain": [
       "                UserID  ProductID       Age  Occupation  CityCategory  \\\n",
       "UserID        1.000000  -0.017500  0.033359   -0.023024      0.024107   \n",
       "ProductID    -0.017500   1.000000  0.022528    0.007309      0.001422   \n",
       "Age           0.033359   0.022528  1.000000    0.091898      0.122308   \n",
       "Occupation   -0.023024   0.007309  0.091898    1.000000      0.033781   \n",
       "CityCategory  0.024107   0.001422  0.122308    0.033781      1.000000   \n",
       "ProdCat1      0.003687   0.026077  0.061951   -0.008114     -0.027444   \n",
       "ProdCat2      0.001471   0.014143  0.054762   -0.000031     -0.012120   \n",
       "ProdCat3      0.004045   0.027218  0.057155    0.013452     -0.002672   \n",
       "Purchase      0.005389  -0.086541  0.017717    0.021104      0.068507   \n",
       "\n",
       "              ProdCat1  ProdCat2  ProdCat3  Purchase  \n",
       "UserID        0.003687  0.001471  0.004045  0.005389  \n",
       "ProductID     0.026077  0.014143  0.027218 -0.086541  \n",
       "Age           0.061951  0.054762  0.057155  0.017717  \n",
       "Occupation   -0.008114 -0.000031  0.013452  0.021104  \n",
       "CityCategory -0.027444 -0.012120 -0.002672  0.068507  \n",
       "ProdCat1      1.000000  0.540423  0.229490 -0.314125  \n",
       "ProdCat2      0.540423  1.000000  0.543544 -0.209973  \n",
       "ProdCat3      0.229490  0.543544  1.000000 -0.022257  \n",
       "Purchase     -0.314125 -0.209973 -0.022257  1.000000  "
      ]
     },
     "execution_count": 19,
     "metadata": {},
     "output_type": "execute_result"
    }
   ],
   "source": [
    "dataset.corr()"
   ]
  },
  {
   "cell_type": "code",
   "execution_count": null,
   "metadata": {
    "id": "X9vVveUayOJj",
    "outputId": "49228898-0e9f-49a8-86e7-119506daa12a"
   },
   "outputs": [
    {
     "data": {
      "image/png": "[encoded data removed]",
      "text/plain": [
       "<Figure size 432x432 with 2 Axes>"
      ]
     },
     "metadata": {
      "needs_background": "light"
     },
     "output_type": "display_data"
    }
   ],
   "source": [
    "'''Show a correlation matrix for all features.'''\n",
    "columns = dataset.select_dtypes(include=['float64','int64','int32','uint8']).columns\n",
    "fig = plt.figure(figsize=(6,6))\n",
    "ax = fig.add_subplot(111)\n",
    "cax = ax.matshow(dataset.corr(), vmin=-1, vmax=1, interpolation='none',cmap='RdYlBu')\n",
    "fig.colorbar(cax)\n",
    "ax.set_xticks(np.arange(len(columns)))\n",
    "ax.set_yticks(np.arange(len(columns)))\n",
    "ax.set_xticklabels(columns, rotation = 90)\n",
    "ax.set_yticklabels(columns)\n",
    "plt.show() "
   ]
  },
  {
   "cell_type": "markdown",
   "metadata": {
    "_uuid": "a78ecd0cdfd8e60a7f8e72e15ef8a8616cb0f611",
    "id": "0Iia-S0vyOJj"
   },
   "source": [
    "### 3.0 Visualization"
   ]
  },
  {
   "cell_type": "markdown",
   "metadata": {
    "_uuid": "7a667aaab4aa1b6730204a54a13b225ff40080fe",
    "id": "7Leh4jf9yOJj"
   },
   "source": [
    "Let us visualize the plots based on the categorical variables, \n",
    "1. Gender\n",
    "2. Age\n",
    "3. Occupation \n",
    "4. City Category"
   ]
  },
  {
   "cell_type": "code",
   "execution_count": null,
   "metadata": {
    "_uuid": "84ab53b5810ec3fbf6b335e8713fadf7d3994eb2",
    "id": "Ts6yw7m6yOJj",
    "outputId": "1989d2ba-e062-4973-d72a-f873738035d9"
   },
   "outputs": [
    {
     "name": "stdout",
     "output_type": "stream",
     "text": [
      "         Purchase\n",
      "Gender           \n",
      "F       24.591268\n",
      "M       75.408732\n",
      "\n",
      "\n",
      "\n",
      "        Purchase\n",
      "Age             \n",
      "0-17    2.735794\n",
      "18-25  18.161863\n",
      "26-35  39.936604\n",
      "36-45  19.996949\n",
      "46-50   8.282720\n",
      "51-55   6.997695\n",
      "55+     3.888373\n",
      "\n",
      "\n",
      "\n",
      "               Purchase\n",
      "CityCategory           \n",
      "A             26.905541\n",
      "B             42.132197\n",
      "C             30.962262\n",
      "\n",
      "\n",
      "\n",
      "             Purchase\n",
      "Occupation           \n",
      "0           12.671673\n",
      "1            8.551519\n",
      "2            4.807683\n",
      "3            3.230421\n",
      "4           13.181740\n",
      "5            2.229448\n",
      "6            3.687286\n",
      "7           10.753064\n",
      "8            0.283494\n",
      "9            1.144580\n",
      "10           2.348129\n",
      "11           2.109093\n",
      "12           5.659282\n",
      "13           1.404078\n",
      "14           4.968963\n",
      "15           2.197267\n",
      "16           4.611432\n",
      "17           7.271516\n",
      "18           1.213780\n",
      "19           1.553638\n",
      "20           6.121914\n",
      "\n",
      "\n",
      "\n"
     ]
    }
   ],
   "source": [
    "# Obtaining categorical data in terms of Percentage for each column \n",
    "group_1 = dataset_orig.groupby(['Gender'])\n",
    "group_2 = dataset_orig.groupby([\"Age\"])\n",
    "group_3 = dataset_orig.groupby([\"CityCategory\"])\n",
    "group_4 = dataset_orig.groupby([\"Occupation\"])\n",
    "\n",
    "print (group_1[['Purchase']].count()/len(dataset_orig)*100, end=\"\\n\\n\\n\\n\")\n",
    "print (group_2[['Purchase']].count()/len(dataset_orig)*100, end=\"\\n\\n\\n\\n\")\n",
    "print (group_3[['Purchase']].count()/len(dataset_orig)*100, end=\"\\n\\n\\n\\n\")\n",
    "print (group_4[['Purchase']].count()/len(dataset_orig)*100, end=\"\\n\\n\\n\\n\")\n"
   ]
  },
  {
   "cell_type": "markdown",
   "metadata": {
    "_uuid": "bc6ddef3e3af41d97f4f52d71dc90cba67a2f117",
    "id": "Zi6NweewyOJj"
   },
   "source": [
    "Visualization :  __By count__  "
   ]
  },
  {
   "cell_type": "code",
   "execution_count": null,
   "metadata": {
    "_uuid": "d8e45640ac442ee035915a36ccae7e01d591a3eb",
    "id": "jJ5eKAdDyOJk",
    "outputId": "e5364b98-79d2-4790-e344-6c2543f0bb5a"
   },
   "outputs": [
    {
     "name": "stderr",
     "output_type": "stream",
     "text": [
      "<ipython-input-22-2e98cc66d206>:27: MatplotlibDeprecationWarning: Non-1D inputs to pie() are currently squeeze()d, but this behavior is deprecated since 3.1 and will be removed in 3.3; pass a 1D array instead.\n",
      "  plt.pie(city_count, labels=city_lab,explode=expl1, shadow=True, autopct='%1.1f%%')\n"
     ]
    },
    {
     "data": {
      "image/png": "[encoded data removed]",
      "text/plain": [
       "<Figure size 1080x720 with 4 Axes>"
      ]
     },
     "metadata": {
      "needs_background": "light"
     },
     "output_type": "display_data"
    }
   ],
   "source": [
    "plt.figure(figsize=(15,10))\n",
    "\n",
    "# Pie chart for gender distribution\n",
    "plt.subplot(2,2,1)\n",
    "gender_count = [dataset_orig.Gender[dataset_orig['Gender']=='F'].count(),\n",
    "                dataset_orig.Gender[dataset_orig['Gender']=='M'].count()]\n",
    "gender_lab = dataset_orig.Gender.unique()\n",
    "expl = (0.1,0)\n",
    "plt.pie(gender_count, labels=gender_lab, explode=expl, shadow=True , autopct='%1.1f%%');\n",
    "\n",
    "# Bar chart for Age\n",
    "plt.subplot(2,2,2)\n",
    "ordr =dataset_orig.groupby([\"Age\"]).count().sort_values(by='Purchase',ascending=False).index\n",
    "sns.countplot(dataset_orig['Age'], label=True, order=ordr)\n",
    "\n",
    "# Bar chart for Occupation\n",
    "plt.subplot(2,2,3)\n",
    "ordr1 =dataset_orig.groupby([\"Occupation\"]).count().sort_values(by='Purchase',ascending=False).index\n",
    "sns.countplot(y=dataset_orig['Occupation'], label=True, order=ordr1)\n",
    "\n",
    "# Donut chart for City Category\n",
    "plt.subplot(2,2,4)\n",
    "city_count = group_3[['Purchase']].count().values.tolist()\n",
    "city_lab = dataset_orig.groupby([\"CityCategory\"]).count().index.values\n",
    "my_circle = plt.Circle( (0,0), 0.4, color='white')\n",
    "expl1 = (0,0.1,0)\n",
    "plt.pie(city_count, labels=city_lab,explode=expl1, shadow=True, autopct='%1.1f%%')\n",
    "plt.gcf().gca().add_artist(my_circle)\n",
    "\n",
    "\n",
    "plt.show()"
   ]
  },
  {
   "cell_type": "code",
   "execution_count": null,
   "metadata": {
    "_uuid": "aba740c5e51095f3190918cfc1ab69e751162c65",
    "id": "P02WVtDbyOJk",
    "outputId": "452ee1c1-1127-4b2d-927f-b4b128b4bc82"
   },
   "outputs": [
    {
     "data": {
      "image/png": "[encoded data removed]",
      "text/plain": [
       "<Figure size 576x432 with 1 Axes>"
      ]
     },
     "metadata": {
      "needs_background": "light"
     },
     "output_type": "display_data"
    }
   ],
   "source": [
    "plt.figure(figsize=(8,6))\n",
    "ordr2 =dataset_orig.groupby([\"StayYearsCity\"]).count().sort_values(by='Purchase',ascending=False).index\n",
    "sns.countplot(dataset_orig['StayYearsCity'], label=True, order=ordr2)\n",
    "plt.show()"
   ]
  },
  {
   "cell_type": "markdown",
   "metadata": {
    "_uuid": "fee48b3b2ff1fbc468d1dcdca7f18a258307ef1f",
    "id": "x2Z4orriyOJk"
   },
   "source": [
    "__Observations__ : \n",
    "\n",
    "1. There are __75.4% males__ and 24.6% female buyers from the store\n",
    "2. The majority __(40%) of buyers__ are in between the __age group of 26-35__\n",
    "3. Major buyers are from the __City category C (31%) and B (42%)__\n",
    "4. __Occupation__ code __4 (13%), 0 (12.7%) and 7(10.8%)__ are the major buyers\n",
    "5. It can be observed that, as people __who are new__ in the the current city, they tend to visit the mall more frequently."
   ]
  },
  {
   "cell_type": "markdown",
   "metadata": {
    "_uuid": "8593585f0f373b31e7992340824ff8a4811839c3",
    "id": "licCrOOayOJk"
   },
   "source": [
    "Visualization - __more insights__ <br>\n",
    "\n",
    "1. Combining __Age and Gender__  and also  __Gender and Marital Status__ \n",
    "2. Combining __Gender and Marital Status__ to create new column indicating both Gender and Marital status"
   ]
  },
  {
   "cell_type": "code",
   "execution_count": null,
   "metadata": {
    "_uuid": "bce70031542fe5431d6af1b4025566ce3f066e8a",
    "id": "B_It-NlpyOJk"
   },
   "outputs": [],
   "source": [
    "#Creating new column in the dataset \n",
    "dataset_orig['Gender_MaritalStatus'] = dataset_orig.apply(lambda x:'%s_%s' % (x['Gender'],x['MaritalStatus']),axis=1)"
   ]
  },
  {
   "cell_type": "code",
   "execution_count": null,
   "metadata": {
    "_uuid": "531c56cd3cb0d81b99ddd18c023ec66c31a6df7d",
    "id": "YIl-ACN4yOJl",
    "outputId": "0fca6d20-b0fe-4b67-839e-81433be267a5"
   },
   "outputs": [
    {
     "data": {
      "text/plain": [
       "array(['F_Unmarried', 'M_Unmarried', 'M_Married', 'F_Married'],\n",
       "      dtype=object)"
      ]
     },
     "execution_count": 25,
     "metadata": {},
     "output_type": "execute_result"
    }
   ],
   "source": [
    "dataset_orig.Gender_MaritalStatus.unique()"
   ]
  },
  {
   "cell_type": "code",
   "execution_count": null,
   "metadata": {
    "_uuid": "d657cd7ba3c235f8294dc961df66ed7d525e2024",
    "id": "C66Pg46hyOJl"
   },
   "outputs": [],
   "source": [
    "group_5 = dataset_orig.groupby([\"Gender_MaritalStatus\"])"
   ]
  },
  {
   "cell_type": "code",
   "execution_count": null,
   "metadata": {
    "_uuid": "69b99808904cc05045ffae0efd7f9d312848362b",
    "id": "JPJ9zRWyyOJl",
    "outputId": "5c0a49cc-84f6-4e51-d291-48b4ffcbc164"
   },
   "outputs": [
    {
     "name": "stderr",
     "output_type": "stream",
     "text": [
      "<ipython-input-27-7a150d3f819a>:7: MatplotlibDeprecationWarning: Non-1D inputs to pie() are currently squeeze()d, but this behavior is deprecated since 3.1 and will be removed in 3.3; pass a 1D array instead.\n",
      "  plt.pie(count1, labels=lab1,explode=expl2, shadow=True, autopct='%1.1f%%')\n"
     ]
    },
    {
     "data": {
      "image/png": "[encoded data removed]",
      "text/plain": [
       "<Figure size 1080x720 with 2 Axes>"
      ]
     },
     "metadata": {
      "needs_background": "light"
     },
     "output_type": "display_data"
    }
   ],
   "source": [
    "plt.figure(figsize=(15,10))\n",
    "\n",
    "plt.subplot(1,2,1)\n",
    "count1 = group_5[['Purchase']].count().values.tolist()\n",
    "lab1 = dataset_orig.groupby([\"Gender_MaritalStatus\"]).count().index.values\n",
    "expl2 = (0,0,0.1,0.1)\n",
    "plt.pie(count1, labels=lab1,explode=expl2, shadow=True, autopct='%1.1f%%')\n",
    "\n",
    "plt.subplot(1,2,2)\n",
    "sns.countplot(dataset_orig['Age'],hue=dataset_orig['Gender_MaritalStatus'])\n",
    "\n",
    "plt.show()"
   ]
  },
  {
   "cell_type": "markdown",
   "metadata": {
    "_uuid": "11ff8705509d54775598a403fe1ba7f492b12805",
    "id": "_ppmini1yOJm"
   },
   "source": [
    "__Observations__ : \n",
    "1. Males (un-married and married) between the age group of 26-35 are major buyers\n",
    "2. Un-married female buyers are more in number than married ones"
   ]
  },
  {
   "cell_type": "markdown",
   "metadata": {
    "_uuid": "b4b3c8cd01491c79bdecc0300883ed6bb298510e",
    "id": "1wL3KrfgyOJm"
   },
   "source": [
    "Visualization :  __By Average Purchase__  "
   ]
  },
  {
   "cell_type": "code",
   "execution_count": null,
   "metadata": {
    "_uuid": "f74861eaf6adcb07e236a412e24abbb34f083dfb",
    "id": "1mFElJ67yOJm",
    "outputId": "a4062132-a822-4c7f-dd33-61ffccb26309"
   },
   "outputs": [
    {
     "data": {
      "image/png": "[encoded data removed]",
      "text/plain": [
       "<Figure size 360x360 with 1 Axes>"
      ]
     },
     "metadata": {
      "needs_background": "light"
     },
     "output_type": "display_data"
    },
    {
     "data": {
      "image/png": "[encoded data removed]",
      "text/plain": [
       "<Figure size 360x360 with 1 Axes>"
      ]
     },
     "metadata": {
      "needs_background": "light"
     },
     "output_type": "display_data"
    },
    {
     "data": {
      "image/png": "[encoded data removed]",
      "text/plain": [
       "<Figure size 360x360 with 1 Axes>"
      ]
     },
     "metadata": {
      "needs_background": "light"
     },
     "output_type": "display_data"
    },
    {
     "data": {
      "image/png": "[encoded data removed]",
      "text/plain": [
       "<Figure size 360x360 with 1 Axes>"
      ]
     },
     "metadata": {
      "needs_background": "light"
     },
     "output_type": "display_data"
    }
   ],
   "source": [
    "# Bar chart for Age\n",
    "\n",
    "sns.catplot(x='Gender_MaritalStatus', y='Purchase', data=dataset_orig, kind='boxen')\n",
    "\n",
    "ordr_occ =dataset_orig.groupby([\"Age\"]).mean().sort_values(by='Purchase',ascending=False).index\n",
    "sns.catplot(x='Age', y='Purchase', order=ordr_occ, data=dataset_orig, kind='bar')\n",
    "\n",
    "ordr_occ =dataset_orig.groupby([\"Occupation\"]).mean().sort_values(by='Purchase',ascending=False).index\n",
    "sns.catplot(x='Occupation', y='Purchase', order=ordr_occ, data=dataset_orig, kind='bar')\n",
    "\n",
    "sns.catplot(x='CityCategory', y='Purchase', data=dataset_orig, kind='boxen')\n",
    "\n",
    "\n",
    "plt.show()"
   ]
  },
  {
   "cell_type": "markdown",
   "metadata": {
    "_uuid": "1fdf0c24a55cd551fe4ae3841e91b8a487d84b2b",
    "id": "NNzPxpEvyOJm"
   },
   "source": [
    "__Observations__ : \n",
    "1. __Males__ spend more than females\n",
    "2. Age factor : People who have earned more (*spend more time working*) and have saved enough money, tend to spend more\n",
    "3. __Occupation codes 17, 12 and 15__ appears to be earning more and accordingly spend more \n",
    "4. People living in __Category C__ city appears to spend more in the mall\n"
   ]
  },
  {
   "cell_type": "markdown",
   "metadata": {
    "_uuid": "34756862da5db4754dc09971248fc46a8d7ab353",
    "id": "najTpTYpyOJm"
   },
   "source": [
    "#### 3.2 Visualization of correlation\n"
   ]
  },
  {
   "cell_type": "code",
   "execution_count": null,
   "metadata": {
    "_uuid": "042295827d4eb5e87c8b69fd4a5e329f9ea498fe",
    "id": "uyEAPqN-yOJm"
   },
   "outputs": [],
   "source": [
    "corrmat = dataset.corr()"
   ]
  },
  {
   "cell_type": "code",
   "execution_count": null,
   "metadata": {
    "_uuid": "33a0bc3bbabdc18b0ff587ab950e50a459453a61",
    "id": "ee-A2c_XyOJm",
    "outputId": "2685e192-4bc1-4f93-e782-01dab4df1fb2"
   },
   "outputs": [
    {
     "data": {
      "image/png": "[encoded data removed]",
      "text/plain": [
       "<Figure size 864x648 with 2 Axes>"
      ]
     },
     "metadata": {
      "needs_background": "light"
     },
     "output_type": "display_data"
    }
   ],
   "source": [
    "f, ax = plt.subplots(figsize=(12, 9))\n",
    "sns.heatmap(corrmat, vmax=1, cmap=\"YlGnBu\", square=True,linewidths=.5, annot=True)\n",
    "plt.show()"
   ]
  },
  {
   "cell_type": "code",
   "execution_count": null,
   "metadata": {
    "_uuid": "2c724292d382bcf5838a75f207439350de55a7ef",
    "id": "LThEsBrByOJn",
    "outputId": "f3a3dec9-6364-46d8-8edc-c6878c8ed36c",
    "scrolled": true
   },
   "outputs": [
    {
     "data": {
      "text/plain": [
       "Purchase        1.000000\n",
       "CityCategory    0.068507\n",
       "Occupation      0.021104\n",
       "Age             0.017717\n",
       "UserID          0.005389\n",
       "ProdCat3       -0.022257\n",
       "ProductID      -0.086541\n",
       "ProdCat2       -0.209973\n",
       "ProdCat1       -0.314125\n",
       "Name: Purchase, dtype: float64"
      ]
     },
     "execution_count": 31,
     "metadata": {},
     "output_type": "execute_result"
    }
   ],
   "source": [
    "dataset[dataset.columns[0:]].corr()['Purchase'].sort_values(ascending=False)"
   ]
  },
  {
   "cell_type": "code",
   "execution_count": null,
   "metadata": {
    "_uuid": "77329f70732b5ba506b7a4e939c14f39595822d6",
    "id": "XeZap7W6yOJn",
    "outputId": "99a0ac49-509a-4f51-a8fb-c5c308433f7e"
   },
   "outputs": [
    {
     "data": {
      "text/html": [
       "<div>\n",
       "<style scoped>\n",
       "    .dataframe tbody tr th:only-of-type {\n",
       "        vertical-align: middle;\n",
       "    }\n",
       "\n",
       "    .dataframe tbody tr th {\n",
       "        vertical-align: top;\n",
       "    }\n",
       "\n",
       "    .dataframe thead th {\n",
       "        text-align: right;\n",
       "    }\n",
       "</style>\n",
       "<table border=\"1\" class=\"dataframe\">\n",
       "  <thead>\n",
       "    <tr style=\"text-align: right;\">\n",
       "      <th></th>\n",
       "      <th>UserID</th>\n",
       "      <th>ProductID</th>\n",
       "      <th>Age</th>\n",
       "      <th>Occupation</th>\n",
       "      <th>CityCategory</th>\n",
       "      <th>ProdCat1</th>\n",
       "      <th>ProdCat2</th>\n",
       "      <th>ProdCat3</th>\n",
       "      <th>Purchase</th>\n",
       "    </tr>\n",
       "  </thead>\n",
       "  <tbody>\n",
       "    <tr>\n",
       "      <th>Purchase</th>\n",
       "      <td>0.005389</td>\n",
       "      <td>-0.086541</td>\n",
       "      <td>0.017717</td>\n",
       "      <td>0.021104</td>\n",
       "      <td>0.068507</td>\n",
       "      <td>-0.314125</td>\n",
       "      <td>-0.209973</td>\n",
       "      <td>-0.022257</td>\n",
       "      <td>1.000000</td>\n",
       "    </tr>\n",
       "    <tr>\n",
       "      <th>CityCategory</th>\n",
       "      <td>0.024107</td>\n",
       "      <td>0.001422</td>\n",
       "      <td>0.122308</td>\n",
       "      <td>0.033781</td>\n",
       "      <td>1.000000</td>\n",
       "      <td>-0.027444</td>\n",
       "      <td>-0.012120</td>\n",
       "      <td>-0.002672</td>\n",
       "      <td>0.068507</td>\n",
       "    </tr>\n",
       "    <tr>\n",
       "      <th>Occupation</th>\n",
       "      <td>-0.023024</td>\n",
       "      <td>0.007309</td>\n",
       "      <td>0.091898</td>\n",
       "      <td>1.000000</td>\n",
       "      <td>0.033781</td>\n",
       "      <td>-0.008114</td>\n",
       "      <td>-0.000031</td>\n",
       "      <td>0.013452</td>\n",
       "      <td>0.021104</td>\n",
       "    </tr>\n",
       "    <tr>\n",
       "      <th>Age</th>\n",
       "      <td>0.033359</td>\n",
       "      <td>0.022528</td>\n",
       "      <td>1.000000</td>\n",
       "      <td>0.091898</td>\n",
       "      <td>0.122308</td>\n",
       "      <td>0.061951</td>\n",
       "      <td>0.054762</td>\n",
       "      <td>0.057155</td>\n",
       "      <td>0.017717</td>\n",
       "    </tr>\n",
       "    <tr>\n",
       "      <th>UserID</th>\n",
       "      <td>1.000000</td>\n",
       "      <td>-0.017500</td>\n",
       "      <td>0.033359</td>\n",
       "      <td>-0.023024</td>\n",
       "      <td>0.024107</td>\n",
       "      <td>0.003687</td>\n",
       "      <td>0.001471</td>\n",
       "      <td>0.004045</td>\n",
       "      <td>0.005389</td>\n",
       "    </tr>\n",
       "    <tr>\n",
       "      <th>ProdCat3</th>\n",
       "      <td>0.004045</td>\n",
       "      <td>0.027218</td>\n",
       "      <td>0.057155</td>\n",
       "      <td>0.013452</td>\n",
       "      <td>-0.002672</td>\n",
       "      <td>0.229490</td>\n",
       "      <td>0.543544</td>\n",
       "      <td>1.000000</td>\n",
       "      <td>-0.022257</td>\n",
       "    </tr>\n",
       "    <tr>\n",
       "      <th>ProductID</th>\n",
       "      <td>-0.017500</td>\n",
       "      <td>1.000000</td>\n",
       "      <td>0.022528</td>\n",
       "      <td>0.007309</td>\n",
       "      <td>0.001422</td>\n",
       "      <td>0.026077</td>\n",
       "      <td>0.014143</td>\n",
       "      <td>0.027218</td>\n",
       "      <td>-0.086541</td>\n",
       "    </tr>\n",
       "    <tr>\n",
       "      <th>ProdCat2</th>\n",
       "      <td>0.001471</td>\n",
       "      <td>0.014143</td>\n",
       "      <td>0.054762</td>\n",
       "      <td>-0.000031</td>\n",
       "      <td>-0.012120</td>\n",
       "      <td>0.540423</td>\n",
       "      <td>1.000000</td>\n",
       "      <td>0.543544</td>\n",
       "      <td>-0.209973</td>\n",
       "    </tr>\n",
       "  </tbody>\n",
       "</table>\n",
       "</div>"
      ],
      "text/plain": [
       "                UserID  ProductID       Age  Occupation  CityCategory  \\\n",
       "Purchase      0.005389  -0.086541  0.017717    0.021104      0.068507   \n",
       "CityCategory  0.024107   0.001422  0.122308    0.033781      1.000000   \n",
       "Occupation   -0.023024   0.007309  0.091898    1.000000      0.033781   \n",
       "Age           0.033359   0.022528  1.000000    0.091898      0.122308   \n",
       "UserID        1.000000  -0.017500  0.033359   -0.023024      0.024107   \n",
       "ProdCat3      0.004045   0.027218  0.057155    0.013452     -0.002672   \n",
       "ProductID    -0.017500   1.000000  0.022528    0.007309      0.001422   \n",
       "ProdCat2      0.001471   0.014143  0.054762   -0.000031     -0.012120   \n",
       "\n",
       "              ProdCat1  ProdCat2  ProdCat3  Purchase  \n",
       "Purchase     -0.314125 -0.209973 -0.022257  1.000000  \n",
       "CityCategory -0.027444 -0.012120 -0.002672  0.068507  \n",
       "Occupation   -0.008114 -0.000031  0.013452  0.021104  \n",
       "Age           0.061951  0.054762  0.057155  0.017717  \n",
       "UserID        0.003687  0.001471  0.004045  0.005389  \n",
       "ProdCat3      0.229490  0.543544  1.000000 -0.022257  \n",
       "ProductID     0.026077  0.014143  0.027218 -0.086541  \n",
       "ProdCat2      0.540423  1.000000  0.543544 -0.209973  "
      ]
     },
     "execution_count": 32,
     "metadata": {},
     "output_type": "execute_result"
    }
   ],
   "source": [
    "# Obtaining top K columns which affects the Purchase the most\n",
    "k= 8\n",
    "corrmat.nlargest(k, 'Purchase')"
   ]
  },
  {
   "cell_type": "code",
   "execution_count": null,
   "metadata": {
    "_uuid": "7867b81c3758b1c0d11c0bd2eecd6b98d964b6e2",
    "id": "RzF48mxoyOJn",
    "outputId": "cc4c65d9-cae0-4e2b-9125-6172c3f13e27"
   },
   "outputs": [
    {
     "data": {
      "image/png": "[encoded data removed]",
      "text/plain": [
       "<Figure size 864x648 with 2 Axes>"
      ]
     },
     "metadata": {
      "needs_background": "light"
     },
     "output_type": "display_data"
    }
   ],
   "source": [
    "# Replotting the heatmap with the above data\n",
    "cols = corrmat.nlargest(k, 'Purchase')['Purchase'].index\n",
    "cm = np.corrcoef(dataset[cols].values.T)\n",
    "f, ax = plt.subplots(figsize=(12, 9))\n",
    "sns.heatmap(cm, cmap=\"YlGnBu\", cbar=True, annot=True, square=True, fmt='.2f', annot_kws={'size': 10}, yticklabels=cols.values, xticklabels=cols.values)\n",
    "plt.show()"
   ]
  },
  {
   "cell_type": "markdown",
   "metadata": {
    "_uuid": "9d34168f11c8dc3e0ac05bb6f5eb256eaa8215aa",
    "id": "fFF1Owg-yOJn"
   },
   "source": [
    "__Observation__ :\n",
    "From the above correlation matrix and plot we understand that the __Gender, CityCategory and Product Category 3__ are the three (3) main parameters relating to the Purchase "
   ]
  },
  {
   "cell_type": "markdown",
   "metadata": {
    "_uuid": "918ccb9a40a9ef9650ed130a6a8f6c43fca7542a",
    "id": "DmarrLkIyOJn"
   },
   "source": [
    "### 4.0 Conclusion"
   ]
  },
  {
   "cell_type": "markdown",
   "metadata": {
    "_uuid": "4e91e9b94d3690aea6b3fffafd78df12387ad614",
    "id": "C9-e4-uMyOJn"
   },
   "source": [
    "1. Based on the above visualizations and correlation matrix, it appears that the __customer purchase behaviour__ mainly depends on __4 major factors__ ; <br>\n",
    "    a. __City Category__ (Category C and B are more in number and spend more on items)<br> \n",
    "    b. __Gender__ (Males (esp. unmarried) buy more than females) <br>\n",
    "    c. __Occupation__ (codes 4,0,7 are regular buyers, codes 17,12,15 spend more on items) <br>\n",
    "    d. People __Aged__ between 26-35 visit more and also spend more more on items <br>\n",
    "2. By observing the dataset, it appears that column Product Category 1 is the 'main' category type and other 2 columns indicating  Product categories (2 & 3) are sub categories of the product. As there were quite a few missing values in Product category2 and Product Category3 (replaced by 0s) no particular insight can be provided."
   ]
  }
 ],
 "metadata": {
  "colab": {
   "collapsed_sections": [
    "wXdrvgcJyOJi",
    "najTpTYpyOJm"
   ],
   "name": "black-friday-data-pre-processing-visualization.ipynb",
   "provenance": []
  },
  "kernelspec": {
   "display_name": "Python 3 (ipykernel)",
   "language": "python",
   "name": "python3"
  },
  "language_info": {
   "codemirror_mode": {
    "name": "ipython",
    "version": 3
   },
   "file_extension": ".py",
   "mimetype": "text/x-python",
   "name": "python",
   "nbconvert_exporter": "python",
   "pygments_lexer": "ipython3",
   "version": "3.9.7"
  }
 },
 "nbformat": 4,
 "nbformat_minor": 1
}
